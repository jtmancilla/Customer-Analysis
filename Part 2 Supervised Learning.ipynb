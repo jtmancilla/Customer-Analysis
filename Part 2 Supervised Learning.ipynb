{
 "cells": [
  {
   "cell_type": "markdown",
   "metadata": {},
   "source": [
    "\n",
    "## <a id=\"Supervised-Learning-Model\">Part 2: Supervised Learning Model<br></a>"
   ]
  },
  {
   "cell_type": "code",
   "execution_count": 1,
   "metadata": {},
   "outputs": [
    {
     "name": "stderr",
     "output_type": "stream",
     "text": [
      "/Users/jamancilla/anaconda3/lib/python3.7/site-packages/sklearn/externals/joblib/__init__.py:15: FutureWarning: sklearn.externals.joblib is deprecated in 0.21 and will be removed in 0.23. Please import this functionality directly from joblib, which can be installed with: pip install joblib. If this warning is raised when loading pickled models, you may need to re-serialize those models with scikit-learn 0.21+.\n",
      "  warnings.warn(msg, category=FutureWarning)\n",
      "/Users/jamancilla/anaconda3/lib/python3.7/site-packages/statsmodels/tools/_testing.py:19: FutureWarning: pandas.util.testing is deprecated. Use the functions in the public API at pandas.testing instead.\n",
      "  import pandas.util.testing as tm\n"
     ]
    }
   ],
   "source": [
    "import numpy as np\n",
    "import pandas as pd\n",
    "import pickle\n",
    "import time\n",
    "\n",
    "from sklearn.model_selection import train_test_split\n",
    "from sklearn.ensemble import GradientBoostingClassifier, AdaBoostClassifier, RandomForestClassifier\n",
    "from sklearn.model_selection import GridSearchCV\n",
    "from sklearn.tree import DecisionTreeClassifier\n",
    "from sklearn.externals import joblib\n",
    "\n",
    "import lightgbm as lgb\n",
    "\n",
    "import dsp"
   ]
  },
  {
   "cell_type": "code",
   "execution_count": 2,
   "metadata": {},
   "outputs": [
    {
     "name": "stderr",
     "output_type": "stream",
     "text": [
      "/Users/jamancilla/.local/lib/python3.7/site-packages/IPython/core/interactiveshell.py:3063: DtypeWarning: Columns (19,20) have mixed types.Specify dtype option on import or set low_memory=False.\n",
      "  interactivity=interactivity, compiler=compiler, result=result)\n"
     ]
    }
   ],
   "source": [
    "mailout_train = pd.read_csv('data/Udacity_MAILOUT_052018_TRAIN.csv', sep=';')"
   ]
  },
  {
   "cell_type": "code",
   "execution_count": 3,
   "metadata": {},
   "outputs": [],
   "source": [
    "# Load feature info\n",
    "feat_info = pd.read_csv('data/features.csv')\n",
    "feat_info.set_index('attribute', inplace=True)\n",
    "\n",
    "feat_info['missing_or_unknown'] = feat_info['missing_or_unknown'].apply(dsp.parse_missing)"
   ]
  },
  {
   "cell_type": "code",
   "execution_count": 4,
   "metadata": {},
   "outputs": [],
   "source": [
    "mailout_train_clean = dsp.clean_data_mailout(mailout_train, feat_info)"
   ]
  },
  {
   "cell_type": "code",
   "execution_count": 5,
   "metadata": {},
   "outputs": [
    {
     "data": {
      "text/plain": [
       "(42962, 384)"
      ]
     },
     "execution_count": 5,
     "metadata": {},
     "output_type": "execute_result"
    }
   ],
   "source": [
    "# mailout_train_clean = pd.read_csv('data/Udacity_MAILOUT_052018_TRAIN_clean.csv', sep=';')\n",
    "mailout_train_clean.shape"
   ]
  },
  {
   "cell_type": "code",
   "execution_count": 6,
   "metadata": {},
   "outputs": [
    {
     "data": {
      "text/plain": [
       "(42962, 368)"
      ]
     },
     "execution_count": 6,
     "metadata": {},
     "output_type": "execute_result"
    }
   ],
   "source": [
    "mailout_train.shape"
   ]
  },
  {
   "cell_type": "code",
   "execution_count": 8,
   "metadata": {},
   "outputs": [
    {
     "data": {
      "text/plain": [
       "(42962, 382)"
      ]
     },
     "execution_count": 8,
     "metadata": {},
     "output_type": "execute_result"
    }
   ],
   "source": [
    "lnr = mailout_train_clean.LNR\n",
    "y = mailout_train_clean.RESPONSE\n",
    "X = mailout_train_clean.drop(['RESPONSE', 'LNR'], axis=1)\n",
    "X.shape"
   ]
  },
  {
   "cell_type": "code",
   "execution_count": 9,
   "metadata": {},
   "outputs": [],
   "source": [
    "# Load feature info\n",
    "feat_info = pd.read_csv('data/features.csv')\n",
    "feat_info.set_index('attribute', inplace=True)"
   ]
  },
  {
   "cell_type": "code",
   "execution_count": 13,
   "metadata": {},
   "outputs": [],
   "source": [
    "# Make the preprocessor\n",
    "numerical, categorical = dsp.get_columns(X.columns, feat_info)\n",
    "preprocessor = dsp.make_preprocessor(numerical, categorical)\n",
    "\n",
    "X_processed = preprocessor.fit_transform(X)"
   ]
  },
  {
   "cell_type": "code",
   "execution_count": 14,
   "metadata": {},
   "outputs": [
    {
     "data": {
      "text/plain": [
       "['KBA13_ANZAHL_PKW',\n",
       " 'ANZ_HH_TITEL',\n",
       " 'ANZ_STATISTISCHE_HAUSHALTE',\n",
       " 'ANZ_PERSONEN',\n",
       " 'MIN_GEBAEUDEJAHR',\n",
       " 'ANZ_KINDER',\n",
       " 'ANZ_TITEL',\n",
       " 'ANZ_HAUSHALTE_AKTIV']"
      ]
     },
     "execution_count": 14,
     "metadata": {},
     "output_type": "execute_result"
    }
   ],
   "source": [
    "numerical"
   ]
  },
  {
   "cell_type": "code",
   "execution_count": 15,
   "metadata": {},
   "outputs": [
    {
     "data": {
      "text/plain": [
       "['KBA13_CCM_1200',\n",
       " 'BALLRAUM',\n",
       " 'D19_TELKO_REST',\n",
       " 'KONSUMNAEHE',\n",
       " 'KBA05_HERST5',\n",
       " 'KBA13_HALTER_66',\n",
       " 'KBA13_KMH_140',\n",
       " 'D19_BANKEN_GROSS',\n",
       " 'ORTSGR_KLS9',\n",
       " 'D19_LETZTER_KAUF_BRANCHE_D19_BILDUNG',\n",
       " 'KBA13_HERST_ASIEN',\n",
       " 'CAMEO_DEUG_2015',\n",
       " 'KBA13_SEG_OBEREMITTELKLASSE',\n",
       " 'D19_KONSUMTYP_MAX',\n",
       " 'SEMIO_ERL',\n",
       " 'KBA13_SEG_KLEINWAGEN',\n",
       " 'PLZ8_GBZ',\n",
       " 'KBA13_MOTOR',\n",
       " 'SEMIO_DOM',\n",
       " 'GEBAEUDETYP_RASTER',\n",
       " 'KBA13_ANTG3',\n",
       " 'VK_DISTANZ',\n",
       " 'FIRMENDICHTE',\n",
       " 'KBA13_KRSHERST_BMW_BENZ',\n",
       " 'KBA05_ANHANG',\n",
       " 'CJT_GESAMTTYP',\n",
       " 'KBA05_KRSHERST1',\n",
       " 'ARBEIT',\n",
       " 'D19_BIO_OEKO',\n",
       " 'KBA05_MAXAH',\n",
       " 'KBA13_ANTG1',\n",
       " 'KBA13_SEG_GROSSRAUMVANS',\n",
       " 'KBA13_FAB_ASIEN',\n",
       " 'D19_LETZTER_KAUF_BRANCHE_D19_BANKEN_REST',\n",
       " 'UMFELD_ALT',\n",
       " 'KBA05_SEG5',\n",
       " 'KBA13_HALTER_30',\n",
       " 'KBA05_KRSHERST3',\n",
       " 'FINANZTYP',\n",
       " 'KBA13_HALTER_65',\n",
       " 'D19_SOZIALES',\n",
       " 'KBA13_SEG_KOMPAKTKLASSE',\n",
       " 'SEMIO_TRADV',\n",
       " 'KBA13_SITZE_5',\n",
       " 'SEMIO_KAEM',\n",
       " 'D19_LETZTER_KAUF_BRANCHE_D19_TELKO_REST',\n",
       " 'KBA13_SEG_SONSTIGE',\n",
       " 'KBA05_ZUL3',\n",
       " 'KBA13_KRSZUL_NEU',\n",
       " 'KBA13_PEUGEOT',\n",
       " 'D19_VOLLSORTIMENT',\n",
       " 'KBA05_ANTG4',\n",
       " 'CJT_TYP_2',\n",
       " 'SHOPPER_TYP',\n",
       " 'KBA05_SEG9',\n",
       " 'D19_LETZTER_KAUF_BRANCHE_D19_FREIZEIT',\n",
       " 'INNENSTADT',\n",
       " 'KBA13_BJ_2000',\n",
       " 'D19_LETZTER_KAUF_BRANCHE_D19_KOSMETIK',\n",
       " 'MOBI_RASTER',\n",
       " 'PLZ8_ANTG2',\n",
       " 'HH_EINKOMMEN_SCORE',\n",
       " 'D19_VERSI_OFFLINE_DATUM',\n",
       " 'KBA05_CCM3',\n",
       " 'KBA13_MERCEDES',\n",
       " 'D19_GESAMT_ANZ_24',\n",
       " 'D19_BANKEN_OFFLINE_DATUM',\n",
       " 'KBA05_HERST2',\n",
       " 'D19_TELKO_MOBILE',\n",
       " 'KBA13_KW_60',\n",
       " 'KBA13_KMH_210',\n",
       " 'KBA05_HERST4',\n",
       " 'KBA05_ALTER1',\n",
       " 'KBA13_HERST_EUROPA',\n",
       " 'STRUKTURTYP',\n",
       " 'KBA05_HERSTTEMP',\n",
       " 'D19_LETZTER_KAUF_BRANCHE_D19_LEBENSMITTEL',\n",
       " 'KBA13_KMH_0_140',\n",
       " 'D19_LETZTER_KAUF_BRANCHE_D19_TIERARTIKEL',\n",
       " 'D19_LETZTER_KAUF_BRANCHE_D19_BIO_OEKO',\n",
       " 'KBA13_KRSHERST_FORD_OPEL',\n",
       " 'D19_LETZTER_KAUF_BRANCHE_D19_GARTEN',\n",
       " 'KBA13_ALTERHALTER_60',\n",
       " 'KBA13_CCM_1600',\n",
       " 'D19_LETZTER_KAUF_BRANCHE_D19_REISEN',\n",
       " 'KBA05_MOD2',\n",
       " 'D19_LETZTER_KAUF_BRANCHE_D19_VERSICHERUNGEN',\n",
       " 'KBA13_BMW',\n",
       " 'KBA13_KW_0_60',\n",
       " 'D19_KINDERARTIKEL',\n",
       " 'LP_STATUS_GROB',\n",
       " 'KBA05_MODTEMP',\n",
       " 'D19_LETZTER_KAUF_BRANCHE_D19_BANKEN_LOKAL',\n",
       " 'KBA13_BJ_2008',\n",
       " 'Unnamed: 0',\n",
       " 'D19_BEKLEIDUNG_REST',\n",
       " 'D19_LETZTER_KAUF_BRANCHE_D19_RATGEBER',\n",
       " 'CJT_TYP_6',\n",
       " 'KBA05_SEG6',\n",
       " 'KBA13_SITZE_4',\n",
       " 'D19_ENERGIE',\n",
       " 'KBA13_BJ_2004',\n",
       " 'KBA13_HERST_FORD_OPEL',\n",
       " 'KBA13_FAB_SONSTIGE',\n",
       " 'KBA13_HALTER_55',\n",
       " 'D19_TELKO_ONLINE_DATUM',\n",
       " 'KBA13_SEG_MITTELKLASSE',\n",
       " 'KBA13_KRSAQUOT',\n",
       " 'KBA13_CCM_0_1400',\n",
       " 'KBA13_KMH_140_210',\n",
       " 'D19_BUCH_CD',\n",
       " 'D19_LETZTER_KAUF_BRANCHE_D19_SAMMELARTIKEL',\n",
       " 'KBA05_KRSKLEIN',\n",
       " 'D19_TELKO_DATUM',\n",
       " 'SEMIO_FAM',\n",
       " 'GEBAEUDETYP',\n",
       " 'D19_LETZTER_KAUF_BRANCHE_D19_BEKLEIDUNG_REST',\n",
       " 'D19_HAUS_DEKO',\n",
       " 'KBA13_SEG_VAN',\n",
       " 'FINANZ_ANLEGER',\n",
       " 'RETOURTYP_BK_S',\n",
       " 'FINANZ_MINIMALIST',\n",
       " 'VERDICHTUNGSRAUM',\n",
       " 'KBA05_SEG1',\n",
       " 'D19_SONSTIGE',\n",
       " 'KBA13_HHZ',\n",
       " 'KBA13_KRSSEG_VAN',\n",
       " 'KBA13_KW_121',\n",
       " 'D19_VERSAND_ANZ_12',\n",
       " 'KBA13_KW_110',\n",
       " 'KBA05_SEG8',\n",
       " 'KBA05_KRSAQUOT',\n",
       " 'KBA13_ALTERHALTER_61',\n",
       " 'D19_TELKO_ANZ_24',\n",
       " 'KBA13_CCM_1401_2500',\n",
       " 'KBA13_CCM_1800',\n",
       " 'KONSUMZELLE',\n",
       " 'KBA13_ALTERHALTER_30',\n",
       " 'VERS_TYP',\n",
       " 'ALTERSKATEGORIE_FEIN',\n",
       " 'D19_BANKEN_ANZ_24',\n",
       " 'GEMEINDETYP',\n",
       " 'CJT_TYP_5',\n",
       " 'KBA05_MOD8',\n",
       " 'D19_TELKO_ONLINE_QUOTE_12',\n",
       " 'KBA13_SITZE_6',\n",
       " 'KBA13_SEG_GELAENDEWAGEN',\n",
       " 'DSL_FLAG',\n",
       " 'D19_LETZTER_KAUF_BRANCHE_D19_ENERGIE',\n",
       " 'KBA13_VORB_1',\n",
       " 'KBA05_KW1',\n",
       " 'D19_GARTEN',\n",
       " 'PLZ8_BAUMAX',\n",
       " 'KBA13_CCM_2500',\n",
       " 'D19_LETZTER_KAUF_BRANCHE_D19_KINDERARTIKEL',\n",
       " 'KBA05_SEG2',\n",
       " 'KBA13_KW_30',\n",
       " 'KBA05_DIESEL',\n",
       " 'D19_TELKO_OFFLINE_DATUM',\n",
       " 'WOHNDAUER_2008',\n",
       " 'KBA05_MOTOR',\n",
       " 'KBA05_CCM1',\n",
       " 'KOMBIALTER',\n",
       " 'D19_VERSI_DATUM',\n",
       " 'D19_VERSICHERUNGEN',\n",
       " 'D19_DROGERIEARTIKEL',\n",
       " 'D19_LETZTER_KAUF_BRANCHE_D19_TELKO_MOBILE',\n",
       " 'KBA13_KMH_250',\n",
       " 'KBA05_KRSHERST2',\n",
       " 'KBA13_KRSSEG_KLEIN',\n",
       " 'VHA',\n",
       " 'KBA05_MOD4',\n",
       " 'OST_WEST_KZ_W',\n",
       " 'KBA13_CCM_1000',\n",
       " 'KBA13_GBZ',\n",
       " 'D19_LETZTER_KAUF_BRANCHE_D19_HAUS_DEKO',\n",
       " 'KBA05_HERST1',\n",
       " 'KBA05_ANTG1',\n",
       " 'ZABEOTYP',\n",
       " 'KBA05_MAXVORB',\n",
       " 'KBA05_ALTER2',\n",
       " 'KBA05_MAXSEG',\n",
       " 'KBA05_ZUL4',\n",
       " 'KBA13_CCM_1500',\n",
       " 'KBA13_KW_61_120',\n",
       " 'RT_KEIN_ANREIZ',\n",
       " 'KBA05_SEG4',\n",
       " 'KBA13_AUTOQUOTE',\n",
       " 'KBA13_KW_120',\n",
       " 'ONLINE_AFFINITAET',\n",
       " 'D19_KOSMETIK',\n",
       " 'PLZ8_ANTG1',\n",
       " 'KBA13_CCM_3000',\n",
       " 'decade',\n",
       " 'KBA13_CCM_1400',\n",
       " 'SEMIO_KULT',\n",
       " 'CJT_TYP_3',\n",
       " 'D19_LETZTER_KAUF_BRANCHE_D19_LOTTO',\n",
       " 'D19_LETZTER_KAUF_BRANCHE_D19_SONSTIGE',\n",
       " 'D19_VERSI_ONLINE_DATUM',\n",
       " 'KBA13_SEG_SPORTWAGEN',\n",
       " 'KBA13_TOYOTA',\n",
       " 'KBA05_MAXHERST',\n",
       " 'D19_VERSAND_ONLINE_QUOTE_12',\n",
       " 'FINANZ_SPARER',\n",
       " 'SEMIO_LUST',\n",
       " 'KBA05_SEG10',\n",
       " 'KBA05_MOD1',\n",
       " 'KBA13_HERST_AUDI_VW',\n",
       " 'KBA13_AUDI',\n",
       " 'D19_LETZTER_KAUF_BRANCHE_D19_VERSAND_REST',\n",
       " 'KBA13_KRSHERST_AUDI_VW',\n",
       " 'D19_LETZTER_KAUF_BRANCHE_D19_UNBEKANNT',\n",
       " 'KBA13_ANTG4',\n",
       " 'KBA13_ALTERHALTER_45',\n",
       " 'D19_DIGIT_SERV',\n",
       " 'KBA13_SEG_MINIWAGEN',\n",
       " 'KBA13_SEG_WOHNMOBILE',\n",
       " 'wealth',\n",
       " 'CJT_TYP_4',\n",
       " 'RT_UEBERGROESSE',\n",
       " 'KBA13_HALTER_25',\n",
       " 'KBA13_VORB_0',\n",
       " 'RELAT_AB',\n",
       " 'D19_BANKEN_DIREKT',\n",
       " 'KBA13_HALTER_60',\n",
       " 'WOHNLAGE',\n",
       " 'D19_RATGEBER',\n",
       " 'KBA13_MAZDA',\n",
       " 'KBA13_NISSAN',\n",
       " 'KBA13_CCM_3001',\n",
       " 'KBA13_HALTER_50',\n",
       " 'KBA05_ANTG3',\n",
       " 'CJT_KATALOGNUTZER',\n",
       " 'KBA13_VW',\n",
       " 'D19_FREIZEIT',\n",
       " 'KBA05_AUTOQUOT',\n",
       " 'PLZ8_ANTG3',\n",
       " 'KBA05_KW2',\n",
       " 'D19_LETZTER_KAUF_BRANCHE_D19_NAHRUNGSERGAENZUNG',\n",
       " 'KBA13_KRSSEG_OBER',\n",
       " 'KBA13_HALTER_35',\n",
       " 'NATIONALITAET_KZ',\n",
       " 'KBA05_ANTG2',\n",
       " 'D19_LETZTER_KAUF_BRANCHE_D19_DROGERIEARTIKEL',\n",
       " 'KBA05_MAXBJ',\n",
       " 'KBA05_HERST3',\n",
       " 'D19_HANDWERK',\n",
       " 'D19_LOTTO',\n",
       " 'KBA13_HALTER_20',\n",
       " 'VK_ZG11',\n",
       " 'CJT_TYP_1',\n",
       " 'KBA05_MOTRAD',\n",
       " 'KBA13_HERST_SONST',\n",
       " 'D19_VERSAND_ANZ_24',\n",
       " 'D19_LETZTER_KAUF_BRANCHE_D19_HANDWERK',\n",
       " 'KBA05_SEG7',\n",
       " 'D19_BANKEN_REST',\n",
       " 'KBA05_VORB2',\n",
       " 'KBA13_SEG_MINIVANS',\n",
       " 'KBA05_MOD3',\n",
       " 'D19_SAMMELARTIKEL',\n",
       " 'D19_BANKEN_DATUM',\n",
       " 'KBA13_KW_80',\n",
       " 'D19_LETZTER_KAUF_BRANCHE_D19_SCHUHE',\n",
       " 'D19_TECHNIK',\n",
       " 'D19_BILDUNG',\n",
       " 'KBA13_SEG_KLEINST',\n",
       " 'KBA13_BJ_2009',\n",
       " 'KBA05_FRAU',\n",
       " 'KBA13_KW_70',\n",
       " 'KBA13_KW_90',\n",
       " 'SEMIO_REL',\n",
       " 'FINANZ_UNAUFFAELLIGER',\n",
       " 'KBA13_VORB_2',\n",
       " 'KBA13_HALTER_40',\n",
       " 'KBA13_SEG_OBERKLASSE',\n",
       " 'GREEN_AVANTGARDE',\n",
       " 'D19_LETZTER_KAUF_BRANCHE_D19_BEKLEIDUNG_GEH',\n",
       " 'KBA13_KW_40',\n",
       " 'OST_WEST_KZ_O',\n",
       " 'KBA13_OPEL',\n",
       " 'RT_SCHNAEPPCHEN',\n",
       " 'D19_NAHRUNGSERGAENZUNG',\n",
       " 'D19_GESAMT_ONLINE_QUOTE_12',\n",
       " 'life_stage',\n",
       " 'D19_GESAMT_ONLINE_DATUM',\n",
       " 'VHN',\n",
       " 'KBA13_BJ_2006',\n",
       " 'D19_GESAMT_OFFLINE_DATUM',\n",
       " 'D19_BANKEN_ANZ_12',\n",
       " 'KBA13_BJ_1999',\n",
       " 'KBA13_ANTG2',\n",
       " 'VK_DHT4A',\n",
       " 'KBA13_VORB_3',\n",
       " 'D19_LETZTER_KAUF_BRANCHE_D19_VOLLSORTIMENT',\n",
       " 'KBA05_VORB1',\n",
       " 'D19_SCHUHE',\n",
       " 'SEMIO_KRIT',\n",
       " 'KBA05_SEG3',\n",
       " 'KBA13_HALTER_45',\n",
       " 'D19_VERSAND_DATUM',\n",
       " 'EINGEZOGENAM_HH_JAHR',\n",
       " 'D19_VERSI_ANZ_24',\n",
       " 'KBA13_KW_50',\n",
       " 'D19_LEBENSMITTEL',\n",
       " 'SEMIO_MAT',\n",
       " 'PLZ8_ANTG4',\n",
       " 'KBA05_ZUL2',\n",
       " 'FINANZ_HAUSBAUER',\n",
       " 'UMFELD_JUNG',\n",
       " 'KBA13_SEG_UTILITIES',\n",
       " 'KBA05_GBZ',\n",
       " 'D19_VERSI_ANZ_12',\n",
       " 'EWDICHTE',\n",
       " 'KBA05_KW3',\n",
       " 'D19_BANKEN_LOKAL',\n",
       " 'KBA13_KMH_180',\n",
       " 'KBA13_KMH_251',\n",
       " 'KBA13_KMH_110',\n",
       " 'D19_LETZTER_KAUF_BRANCHE_D19_BUCH_CD',\n",
       " 'SEMIO_VERT',\n",
       " 'ALTERSKATEGORIE_GROB',\n",
       " 'SOHO_KZ',\n",
       " 'D19_REISEN',\n",
       " 'D19_KONSUMTYP',\n",
       " 'KBA13_KMH_211',\n",
       " 'KBA05_ALTER3',\n",
       " 'KBA05_ALTER4',\n",
       " 'D19_BEKLEIDUNG_GEH',\n",
       " 'KBA13_FIAT',\n",
       " 'KBA05_KRSOBER',\n",
       " 'D19_LETZTER_KAUF_BRANCHE_D19_DIGIT_SERV',\n",
       " 'MOBI_REGIO',\n",
       " 'D19_GESAMT_DATUM',\n",
       " 'PLZ8_HHZ',\n",
       " 'D19_LETZTER_KAUF_BRANCHE_D19_BANKEN_GROSS',\n",
       " 'D19_BANKEN_ONLINE_QUOTE_12',\n",
       " 'D19_VERSAND_OFFLINE_DATUM',\n",
       " 'FINANZ_VORSORGER',\n",
       " 'ANREDE_KZ',\n",
       " 'D19_TIERARTIKEL',\n",
       " 'D19_LETZTER_KAUF_BRANCHE_D19_TECHNIK',\n",
       " 'SEMIO_SOZ',\n",
       " 'D19_LETZTER_KAUF_BRANCHE_D19_BANKEN_DIREKT',\n",
       " 'D19_LETZTER_KAUF_BRANCHE_D19_WEIN_FEINKOST',\n",
       " 'KBA13_CCM_2501',\n",
       " 'KBA05_CCM2',\n",
       " 'KBA05_CCM4',\n",
       " 'KBA05_ZUL1',\n",
       " 'LP_FAMILIE_GROB',\n",
       " 'KBA13_CCM_2000',\n",
       " 'D19_VERSAND_ONLINE_DATUM',\n",
       " 'KBA13_BAUMAX',\n",
       " 'D19_GESAMT_ANZ_12',\n",
       " 'KBA13_FORD',\n",
       " 'KBA05_KRSZUL',\n",
       " 'D19_TELKO_ANZ_12',\n",
       " 'D19_VERSAND_REST',\n",
       " 'KBA05_KRSVAN',\n",
       " 'AKT_DAT_KL',\n",
       " 'GFK_URLAUBERTYP',\n",
       " 'D19_WEIN_FEINKOST',\n",
       " 'HEALTH_TYP',\n",
       " 'D19_BANKEN_ONLINE_DATUM',\n",
       " 'SEMIO_PFLICHT',\n",
       " 'SEMIO_RAT',\n",
       " 'KBA05_VORB0',\n",
       " 'KBA13_HERST_BMW_BENZ',\n",
       " 'KBA13_VORB_1_2',\n",
       " 'movement',\n",
       " 'KBA13_RENAULT',\n",
       " 'UNGLEICHENN_FLAG',\n",
       " 'D19_VERSI_ONLINE_QUOTE_12']"
      ]
     },
     "execution_count": 15,
     "metadata": {},
     "output_type": "execute_result"
    }
   ],
   "source": [
    "categorical"
   ]
  },
  {
   "cell_type": "code",
   "execution_count": 16,
   "metadata": {},
   "outputs": [
    {
     "data": {
      "text/plain": [
       "['KBA13_ANZAHL_PKW',\n",
       " 'ANZ_HH_TITEL',\n",
       " 'ANZ_STATISTISCHE_HAUSHALTE',\n",
       " 'ANZ_PERSONEN',\n",
       " 'MIN_GEBAEUDEJAHR',\n",
       " 'ANZ_KINDER',\n",
       " 'ANZ_TITEL',\n",
       " 'ANZ_HAUSHALTE_AKTIV',\n",
       " 'KBA13_CCM_1200',\n",
       " 'BALLRAUM',\n",
       " 'D19_TELKO_REST',\n",
       " 'KONSUMNAEHE',\n",
       " 'KBA05_HERST5',\n",
       " 'KBA13_HALTER_66',\n",
       " 'KBA13_KMH_140',\n",
       " 'D19_BANKEN_GROSS',\n",
       " 'ORTSGR_KLS9',\n",
       " 'D19_LETZTER_KAUF_BRANCHE_D19_BILDUNG',\n",
       " 'KBA13_HERST_ASIEN',\n",
       " 'CAMEO_DEUG_2015',\n",
       " 'KBA13_SEG_OBEREMITTELKLASSE',\n",
       " 'D19_KONSUMTYP_MAX',\n",
       " 'SEMIO_ERL',\n",
       " 'KBA13_SEG_KLEINWAGEN',\n",
       " 'PLZ8_GBZ',\n",
       " 'KBA13_MOTOR',\n",
       " 'SEMIO_DOM',\n",
       " 'GEBAEUDETYP_RASTER',\n",
       " 'KBA13_ANTG3',\n",
       " 'VK_DISTANZ',\n",
       " 'FIRMENDICHTE',\n",
       " 'KBA13_KRSHERST_BMW_BENZ',\n",
       " 'KBA05_ANHANG',\n",
       " 'CJT_GESAMTTYP',\n",
       " 'KBA05_KRSHERST1',\n",
       " 'ARBEIT',\n",
       " 'D19_BIO_OEKO',\n",
       " 'KBA05_MAXAH',\n",
       " 'KBA13_ANTG1',\n",
       " 'KBA13_SEG_GROSSRAUMVANS',\n",
       " 'KBA13_FAB_ASIEN',\n",
       " 'D19_LETZTER_KAUF_BRANCHE_D19_BANKEN_REST',\n",
       " 'UMFELD_ALT',\n",
       " 'KBA05_SEG5',\n",
       " 'KBA13_HALTER_30',\n",
       " 'KBA05_KRSHERST3',\n",
       " 'FINANZTYP',\n",
       " 'KBA13_HALTER_65',\n",
       " 'D19_SOZIALES',\n",
       " 'KBA13_SEG_KOMPAKTKLASSE',\n",
       " 'SEMIO_TRADV',\n",
       " 'KBA13_SITZE_5',\n",
       " 'SEMIO_KAEM',\n",
       " 'D19_LETZTER_KAUF_BRANCHE_D19_TELKO_REST',\n",
       " 'KBA13_SEG_SONSTIGE',\n",
       " 'KBA05_ZUL3',\n",
       " 'KBA13_KRSZUL_NEU',\n",
       " 'KBA13_PEUGEOT',\n",
       " 'D19_VOLLSORTIMENT',\n",
       " 'KBA05_ANTG4',\n",
       " 'CJT_TYP_2',\n",
       " 'SHOPPER_TYP',\n",
       " 'KBA05_SEG9',\n",
       " 'D19_LETZTER_KAUF_BRANCHE_D19_FREIZEIT',\n",
       " 'INNENSTADT',\n",
       " 'KBA13_BJ_2000',\n",
       " 'D19_LETZTER_KAUF_BRANCHE_D19_KOSMETIK',\n",
       " 'MOBI_RASTER',\n",
       " 'PLZ8_ANTG2',\n",
       " 'HH_EINKOMMEN_SCORE',\n",
       " 'D19_VERSI_OFFLINE_DATUM',\n",
       " 'KBA05_CCM3',\n",
       " 'KBA13_MERCEDES',\n",
       " 'D19_GESAMT_ANZ_24',\n",
       " 'D19_BANKEN_OFFLINE_DATUM',\n",
       " 'KBA05_HERST2',\n",
       " 'D19_TELKO_MOBILE',\n",
       " 'KBA13_KW_60',\n",
       " 'KBA13_KMH_210',\n",
       " 'KBA05_HERST4',\n",
       " 'KBA05_ALTER1',\n",
       " 'KBA13_HERST_EUROPA',\n",
       " 'STRUKTURTYP',\n",
       " 'KBA05_HERSTTEMP',\n",
       " 'D19_LETZTER_KAUF_BRANCHE_D19_LEBENSMITTEL',\n",
       " 'KBA13_KMH_0_140',\n",
       " 'D19_LETZTER_KAUF_BRANCHE_D19_TIERARTIKEL',\n",
       " 'D19_LETZTER_KAUF_BRANCHE_D19_BIO_OEKO',\n",
       " 'KBA13_KRSHERST_FORD_OPEL',\n",
       " 'D19_LETZTER_KAUF_BRANCHE_D19_GARTEN',\n",
       " 'KBA13_ALTERHALTER_60',\n",
       " 'KBA13_CCM_1600',\n",
       " 'D19_LETZTER_KAUF_BRANCHE_D19_REISEN',\n",
       " 'KBA05_MOD2',\n",
       " 'D19_LETZTER_KAUF_BRANCHE_D19_VERSICHERUNGEN',\n",
       " 'KBA13_BMW',\n",
       " 'KBA13_KW_0_60',\n",
       " 'D19_KINDERARTIKEL',\n",
       " 'LP_STATUS_GROB',\n",
       " 'KBA05_MODTEMP',\n",
       " 'D19_LETZTER_KAUF_BRANCHE_D19_BANKEN_LOKAL',\n",
       " 'KBA13_BJ_2008',\n",
       " 'Unnamed: 0',\n",
       " 'D19_BEKLEIDUNG_REST',\n",
       " 'D19_LETZTER_KAUF_BRANCHE_D19_RATGEBER',\n",
       " 'CJT_TYP_6',\n",
       " 'KBA05_SEG6',\n",
       " 'KBA13_SITZE_4',\n",
       " 'D19_ENERGIE',\n",
       " 'KBA13_BJ_2004',\n",
       " 'KBA13_HERST_FORD_OPEL',\n",
       " 'KBA13_FAB_SONSTIGE',\n",
       " 'KBA13_HALTER_55',\n",
       " 'D19_TELKO_ONLINE_DATUM',\n",
       " 'KBA13_SEG_MITTELKLASSE',\n",
       " 'KBA13_KRSAQUOT',\n",
       " 'KBA13_CCM_0_1400',\n",
       " 'KBA13_KMH_140_210',\n",
       " 'D19_BUCH_CD',\n",
       " 'D19_LETZTER_KAUF_BRANCHE_D19_SAMMELARTIKEL',\n",
       " 'KBA05_KRSKLEIN',\n",
       " 'D19_TELKO_DATUM',\n",
       " 'SEMIO_FAM',\n",
       " 'GEBAEUDETYP',\n",
       " 'D19_LETZTER_KAUF_BRANCHE_D19_BEKLEIDUNG_REST',\n",
       " 'D19_HAUS_DEKO',\n",
       " 'KBA13_SEG_VAN',\n",
       " 'FINANZ_ANLEGER',\n",
       " 'RETOURTYP_BK_S',\n",
       " 'FINANZ_MINIMALIST',\n",
       " 'VERDICHTUNGSRAUM',\n",
       " 'KBA05_SEG1',\n",
       " 'D19_SONSTIGE',\n",
       " 'KBA13_HHZ',\n",
       " 'KBA13_KRSSEG_VAN',\n",
       " 'KBA13_KW_121',\n",
       " 'D19_VERSAND_ANZ_12',\n",
       " 'KBA13_KW_110',\n",
       " 'KBA05_SEG8',\n",
       " 'KBA05_KRSAQUOT',\n",
       " 'KBA13_ALTERHALTER_61',\n",
       " 'D19_TELKO_ANZ_24',\n",
       " 'KBA13_CCM_1401_2500',\n",
       " 'KBA13_CCM_1800',\n",
       " 'KONSUMZELLE',\n",
       " 'KBA13_ALTERHALTER_30',\n",
       " 'VERS_TYP',\n",
       " 'ALTERSKATEGORIE_FEIN',\n",
       " 'D19_BANKEN_ANZ_24',\n",
       " 'GEMEINDETYP',\n",
       " 'CJT_TYP_5',\n",
       " 'KBA05_MOD8',\n",
       " 'D19_TELKO_ONLINE_QUOTE_12',\n",
       " 'KBA13_SITZE_6',\n",
       " 'KBA13_SEG_GELAENDEWAGEN',\n",
       " 'DSL_FLAG',\n",
       " 'D19_LETZTER_KAUF_BRANCHE_D19_ENERGIE',\n",
       " 'KBA13_VORB_1',\n",
       " 'KBA05_KW1',\n",
       " 'D19_GARTEN',\n",
       " 'PLZ8_BAUMAX',\n",
       " 'KBA13_CCM_2500',\n",
       " 'D19_LETZTER_KAUF_BRANCHE_D19_KINDERARTIKEL',\n",
       " 'KBA05_SEG2',\n",
       " 'KBA13_KW_30',\n",
       " 'KBA05_DIESEL',\n",
       " 'D19_TELKO_OFFLINE_DATUM',\n",
       " 'WOHNDAUER_2008',\n",
       " 'KBA05_MOTOR',\n",
       " 'KBA05_CCM1',\n",
       " 'KOMBIALTER',\n",
       " 'D19_VERSI_DATUM',\n",
       " 'D19_VERSICHERUNGEN',\n",
       " 'D19_DROGERIEARTIKEL',\n",
       " 'D19_LETZTER_KAUF_BRANCHE_D19_TELKO_MOBILE',\n",
       " 'KBA13_KMH_250',\n",
       " 'KBA05_KRSHERST2',\n",
       " 'KBA13_KRSSEG_KLEIN',\n",
       " 'VHA',\n",
       " 'KBA05_MOD4',\n",
       " 'OST_WEST_KZ_W',\n",
       " 'KBA13_CCM_1000',\n",
       " 'KBA13_GBZ',\n",
       " 'D19_LETZTER_KAUF_BRANCHE_D19_HAUS_DEKO',\n",
       " 'KBA05_HERST1',\n",
       " 'KBA05_ANTG1',\n",
       " 'ZABEOTYP',\n",
       " 'KBA05_MAXVORB',\n",
       " 'KBA05_ALTER2',\n",
       " 'KBA05_MAXSEG',\n",
       " 'KBA05_ZUL4',\n",
       " 'KBA13_CCM_1500',\n",
       " 'KBA13_KW_61_120',\n",
       " 'RT_KEIN_ANREIZ',\n",
       " 'KBA05_SEG4',\n",
       " 'KBA13_AUTOQUOTE',\n",
       " 'KBA13_KW_120',\n",
       " 'ONLINE_AFFINITAET',\n",
       " 'D19_KOSMETIK',\n",
       " 'PLZ8_ANTG1',\n",
       " 'KBA13_CCM_3000',\n",
       " 'decade',\n",
       " 'KBA13_CCM_1400',\n",
       " 'SEMIO_KULT',\n",
       " 'CJT_TYP_3',\n",
       " 'D19_LETZTER_KAUF_BRANCHE_D19_LOTTO',\n",
       " 'D19_LETZTER_KAUF_BRANCHE_D19_SONSTIGE',\n",
       " 'D19_VERSI_ONLINE_DATUM',\n",
       " 'KBA13_SEG_SPORTWAGEN',\n",
       " 'KBA13_TOYOTA',\n",
       " 'KBA05_MAXHERST',\n",
       " 'D19_VERSAND_ONLINE_QUOTE_12',\n",
       " 'FINANZ_SPARER',\n",
       " 'SEMIO_LUST',\n",
       " 'KBA05_SEG10',\n",
       " 'KBA05_MOD1',\n",
       " 'KBA13_HERST_AUDI_VW',\n",
       " 'KBA13_AUDI',\n",
       " 'D19_LETZTER_KAUF_BRANCHE_D19_VERSAND_REST',\n",
       " 'KBA13_KRSHERST_AUDI_VW',\n",
       " 'D19_LETZTER_KAUF_BRANCHE_D19_UNBEKANNT',\n",
       " 'KBA13_ANTG4',\n",
       " 'KBA13_ALTERHALTER_45',\n",
       " 'D19_DIGIT_SERV',\n",
       " 'KBA13_SEG_MINIWAGEN',\n",
       " 'KBA13_SEG_WOHNMOBILE',\n",
       " 'wealth',\n",
       " 'CJT_TYP_4',\n",
       " 'RT_UEBERGROESSE',\n",
       " 'KBA13_HALTER_25',\n",
       " 'KBA13_VORB_0',\n",
       " 'RELAT_AB',\n",
       " 'D19_BANKEN_DIREKT',\n",
       " 'KBA13_HALTER_60',\n",
       " 'WOHNLAGE',\n",
       " 'D19_RATGEBER',\n",
       " 'KBA13_MAZDA',\n",
       " 'KBA13_NISSAN',\n",
       " 'KBA13_CCM_3001',\n",
       " 'KBA13_HALTER_50',\n",
       " 'KBA05_ANTG3',\n",
       " 'CJT_KATALOGNUTZER',\n",
       " 'KBA13_VW',\n",
       " 'D19_FREIZEIT',\n",
       " 'KBA05_AUTOQUOT',\n",
       " 'PLZ8_ANTG3',\n",
       " 'KBA05_KW2',\n",
       " 'D19_LETZTER_KAUF_BRANCHE_D19_NAHRUNGSERGAENZUNG',\n",
       " 'KBA13_KRSSEG_OBER',\n",
       " 'KBA13_HALTER_35',\n",
       " 'NATIONALITAET_KZ',\n",
       " 'KBA05_ANTG2',\n",
       " 'D19_LETZTER_KAUF_BRANCHE_D19_DROGERIEARTIKEL',\n",
       " 'KBA05_MAXBJ',\n",
       " 'KBA05_HERST3',\n",
       " 'D19_HANDWERK',\n",
       " 'D19_LOTTO',\n",
       " 'KBA13_HALTER_20',\n",
       " 'VK_ZG11',\n",
       " 'CJT_TYP_1',\n",
       " 'KBA05_MOTRAD',\n",
       " 'KBA13_HERST_SONST',\n",
       " 'D19_VERSAND_ANZ_24',\n",
       " 'D19_LETZTER_KAUF_BRANCHE_D19_HANDWERK',\n",
       " 'KBA05_SEG7',\n",
       " 'D19_BANKEN_REST',\n",
       " 'KBA05_VORB2',\n",
       " 'KBA13_SEG_MINIVANS',\n",
       " 'KBA05_MOD3',\n",
       " 'D19_SAMMELARTIKEL',\n",
       " 'D19_BANKEN_DATUM',\n",
       " 'KBA13_KW_80',\n",
       " 'D19_LETZTER_KAUF_BRANCHE_D19_SCHUHE',\n",
       " 'D19_TECHNIK',\n",
       " 'D19_BILDUNG',\n",
       " 'KBA13_SEG_KLEINST',\n",
       " 'KBA13_BJ_2009',\n",
       " 'KBA05_FRAU',\n",
       " 'KBA13_KW_70',\n",
       " 'KBA13_KW_90',\n",
       " 'SEMIO_REL',\n",
       " 'FINANZ_UNAUFFAELLIGER',\n",
       " 'KBA13_VORB_2',\n",
       " 'KBA13_HALTER_40',\n",
       " 'KBA13_SEG_OBERKLASSE',\n",
       " 'GREEN_AVANTGARDE',\n",
       " 'D19_LETZTER_KAUF_BRANCHE_D19_BEKLEIDUNG_GEH',\n",
       " 'KBA13_KW_40',\n",
       " 'OST_WEST_KZ_O',\n",
       " 'KBA13_OPEL',\n",
       " 'RT_SCHNAEPPCHEN',\n",
       " 'D19_NAHRUNGSERGAENZUNG',\n",
       " 'D19_GESAMT_ONLINE_QUOTE_12',\n",
       " 'life_stage',\n",
       " 'D19_GESAMT_ONLINE_DATUM',\n",
       " 'VHN',\n",
       " 'KBA13_BJ_2006',\n",
       " 'D19_GESAMT_OFFLINE_DATUM',\n",
       " 'D19_BANKEN_ANZ_12',\n",
       " 'KBA13_BJ_1999',\n",
       " 'KBA13_ANTG2',\n",
       " 'VK_DHT4A',\n",
       " 'KBA13_VORB_3',\n",
       " 'D19_LETZTER_KAUF_BRANCHE_D19_VOLLSORTIMENT',\n",
       " 'KBA05_VORB1',\n",
       " 'D19_SCHUHE',\n",
       " 'SEMIO_KRIT',\n",
       " 'KBA05_SEG3',\n",
       " 'KBA13_HALTER_45',\n",
       " 'D19_VERSAND_DATUM',\n",
       " 'EINGEZOGENAM_HH_JAHR',\n",
       " 'D19_VERSI_ANZ_24',\n",
       " 'KBA13_KW_50',\n",
       " 'D19_LEBENSMITTEL',\n",
       " 'SEMIO_MAT',\n",
       " 'PLZ8_ANTG4',\n",
       " 'KBA05_ZUL2',\n",
       " 'FINANZ_HAUSBAUER',\n",
       " 'UMFELD_JUNG',\n",
       " 'KBA13_SEG_UTILITIES',\n",
       " 'KBA05_GBZ',\n",
       " 'D19_VERSI_ANZ_12',\n",
       " 'EWDICHTE',\n",
       " 'KBA05_KW3',\n",
       " 'D19_BANKEN_LOKAL',\n",
       " 'KBA13_KMH_180',\n",
       " 'KBA13_KMH_251',\n",
       " 'KBA13_KMH_110',\n",
       " 'D19_LETZTER_KAUF_BRANCHE_D19_BUCH_CD',\n",
       " 'SEMIO_VERT',\n",
       " 'ALTERSKATEGORIE_GROB',\n",
       " 'SOHO_KZ',\n",
       " 'D19_REISEN',\n",
       " 'D19_KONSUMTYP',\n",
       " 'KBA13_KMH_211',\n",
       " 'KBA05_ALTER3',\n",
       " 'KBA05_ALTER4',\n",
       " 'D19_BEKLEIDUNG_GEH',\n",
       " 'KBA13_FIAT',\n",
       " 'KBA05_KRSOBER',\n",
       " 'D19_LETZTER_KAUF_BRANCHE_D19_DIGIT_SERV',\n",
       " 'MOBI_REGIO',\n",
       " 'D19_GESAMT_DATUM',\n",
       " 'PLZ8_HHZ',\n",
       " 'D19_LETZTER_KAUF_BRANCHE_D19_BANKEN_GROSS',\n",
       " 'D19_BANKEN_ONLINE_QUOTE_12',\n",
       " 'D19_VERSAND_OFFLINE_DATUM',\n",
       " 'FINANZ_VORSORGER',\n",
       " 'ANREDE_KZ',\n",
       " 'D19_TIERARTIKEL',\n",
       " 'D19_LETZTER_KAUF_BRANCHE_D19_TECHNIK',\n",
       " 'SEMIO_SOZ',\n",
       " 'D19_LETZTER_KAUF_BRANCHE_D19_BANKEN_DIREKT',\n",
       " 'D19_LETZTER_KAUF_BRANCHE_D19_WEIN_FEINKOST',\n",
       " 'KBA13_CCM_2501',\n",
       " 'KBA05_CCM2',\n",
       " 'KBA05_CCM4',\n",
       " 'KBA05_ZUL1',\n",
       " 'LP_FAMILIE_GROB',\n",
       " 'KBA13_CCM_2000',\n",
       " 'D19_VERSAND_ONLINE_DATUM',\n",
       " 'KBA13_BAUMAX',\n",
       " 'D19_GESAMT_ANZ_12',\n",
       " 'KBA13_FORD',\n",
       " 'KBA05_KRSZUL',\n",
       " 'D19_TELKO_ANZ_12',\n",
       " 'D19_VERSAND_REST',\n",
       " 'KBA05_KRSVAN',\n",
       " 'AKT_DAT_KL',\n",
       " 'GFK_URLAUBERTYP',\n",
       " 'D19_WEIN_FEINKOST',\n",
       " 'HEALTH_TYP',\n",
       " 'D19_BANKEN_ONLINE_DATUM',\n",
       " 'SEMIO_PFLICHT',\n",
       " 'SEMIO_RAT',\n",
       " 'KBA05_VORB0',\n",
       " 'KBA13_HERST_BMW_BENZ',\n",
       " 'KBA13_VORB_1_2',\n",
       " 'movement',\n",
       " 'KBA13_RENAULT',\n",
       " 'UNGLEICHENN_FLAG',\n",
       " 'D19_VERSI_ONLINE_QUOTE_12']"
      ]
     },
     "execution_count": 16,
     "metadata": {},
     "output_type": "execute_result"
    }
   ],
   "source": [
    "processed_cols = numerical+categorical\n",
    "processed_cols"
   ]
  },
  {
   "cell_type": "markdown",
   "metadata": {},
   "source": [
    "## Model 1: Gradient Boost"
   ]
  },
  {
   "cell_type": "code",
   "execution_count": 17,
   "metadata": {},
   "outputs": [
    {
     "data": {
      "text/plain": [
       "{'ccp_alpha': 0.0,\n",
       " 'criterion': 'friedman_mse',\n",
       " 'init': None,\n",
       " 'learning_rate': 0.1,\n",
       " 'loss': 'deviance',\n",
       " 'max_depth': 3,\n",
       " 'max_features': None,\n",
       " 'max_leaf_nodes': None,\n",
       " 'min_impurity_decrease': 0.0,\n",
       " 'min_impurity_split': None,\n",
       " 'min_samples_leaf': 1,\n",
       " 'min_samples_split': 2,\n",
       " 'min_weight_fraction_leaf': 0.0,\n",
       " 'n_estimators': 100,\n",
       " 'n_iter_no_change': None,\n",
       " 'presort': 'deprecated',\n",
       " 'random_state': None,\n",
       " 'subsample': 1.0,\n",
       " 'tol': 0.0001,\n",
       " 'validation_fraction': 0.1,\n",
       " 'verbose': 0,\n",
       " 'warm_start': False}"
      ]
     },
     "execution_count": 17,
     "metadata": {},
     "output_type": "execute_result"
    }
   ],
   "source": [
    "clf = GradientBoostingClassifier()\n",
    "clf.get_params()"
   ]
  },
  {
   "cell_type": "code",
   "execution_count": 18,
   "metadata": {},
   "outputs": [
    {
     "name": "stdout",
     "output_type": "stream",
     "text": [
      "Elapsed computation time: 9.132 mins\n"
     ]
    }
   ],
   "source": [
    "param_grid = {'learning_rate': [.001],\n",
    "              'max_depth': [5],\n",
    "              'random_state': [42]}\n",
    "\n",
    "start_time = time.time()\n",
    "\n",
    "grid = GridSearchCV(estimator=clf, param_grid=param_grid, scoring='roc_auc', cv=5, n_jobs = 3)\n",
    "grid.fit(X_processed, y)\n",
    "\n",
    "elapsed_time = (time.time() - start_time) / 60\n",
    "print('Elapsed computation time: {:.3f} mins'.format(elapsed_time))"
   ]
  },
  {
   "cell_type": "code",
   "execution_count": 19,
   "metadata": {},
   "outputs": [
    {
     "name": "stdout",
     "output_type": "stream",
     "text": [
      "0.7141489049167998\n",
      "GradientBoostingClassifier(ccp_alpha=0.0, criterion='friedman_mse', init=None,\n",
      "                           learning_rate=0.001, loss='deviance', max_depth=5,\n",
      "                           max_features=None, max_leaf_nodes=None,\n",
      "                           min_impurity_decrease=0.0, min_impurity_split=None,\n",
      "                           min_samples_leaf=1, min_samples_split=2,\n",
      "                           min_weight_fraction_leaf=0.0, n_estimators=100,\n",
      "                           n_iter_no_change=None, presort='deprecated',\n",
      "                           random_state=42, subsample=1.0, tol=0.0001,\n",
      "                           validation_fraction=0.1, verbose=0,\n",
      "                           warm_start=False)\n"
     ]
    }
   ],
   "source": [
    "print(grid.best_score_)\n",
    "print(grid.best_estimator_)"
   ]
  },
  {
   "cell_type": "markdown",
   "metadata": {},
   "source": [
    "0.7652356030850433<br>\n",
    "GradientBoostingClassifier(criterion='friedman_mse', init=None,\n",
    "              learning_rate=0.001, loss='deviance', max_depth=5,\n",
    "              max_features=None, max_leaf_nodes=None,\n",
    "              min_impurity_decrease=0.0, min_impurity_split=None,\n",
    "              min_samples_leaf=1, min_samples_split=2,\n",
    "              min_weight_fraction_leaf=0.0, n_estimators=100,\n",
    "              n_iter_no_change=None, presort='auto', random_state=42,\n",
    "              subsample=1.0, tol=0.0001, validation_fraction=0.1,\n",
    "              verbose=0, warm_start=False)"
   ]
  },
  {
   "cell_type": "code",
   "execution_count": 20,
   "metadata": {},
   "outputs": [],
   "source": [
    "pickle.dump(grid.best_estimator_, open('models/gb_model4.pkl', 'wb'))"
   ]
  },
  {
   "cell_type": "markdown",
   "metadata": {},
   "source": [
    "## Model 2: AdaBoost"
   ]
  },
  {
   "cell_type": "code",
   "execution_count": 21,
   "metadata": {},
   "outputs": [
    {
     "data": {
      "text/plain": [
       "{'algorithm': 'SAMME.R',\n",
       " 'base_estimator__ccp_alpha': 0.0,\n",
       " 'base_estimator__class_weight': None,\n",
       " 'base_estimator__criterion': 'gini',\n",
       " 'base_estimator__max_depth': None,\n",
       " 'base_estimator__max_features': None,\n",
       " 'base_estimator__max_leaf_nodes': None,\n",
       " 'base_estimator__min_impurity_decrease': 0.0,\n",
       " 'base_estimator__min_impurity_split': None,\n",
       " 'base_estimator__min_samples_leaf': 1,\n",
       " 'base_estimator__min_samples_split': 2,\n",
       " 'base_estimator__min_weight_fraction_leaf': 0.0,\n",
       " 'base_estimator__presort': 'deprecated',\n",
       " 'base_estimator__random_state': None,\n",
       " 'base_estimator__splitter': 'best',\n",
       " 'base_estimator': DecisionTreeClassifier(ccp_alpha=0.0, class_weight=None, criterion='gini',\n",
       "                        max_depth=None, max_features=None, max_leaf_nodes=None,\n",
       "                        min_impurity_decrease=0.0, min_impurity_split=None,\n",
       "                        min_samples_leaf=1, min_samples_split=2,\n",
       "                        min_weight_fraction_leaf=0.0, presort='deprecated',\n",
       "                        random_state=None, splitter='best'),\n",
       " 'learning_rate': 1.0,\n",
       " 'n_estimators': 50,\n",
       " 'random_state': None}"
      ]
     },
     "execution_count": 21,
     "metadata": {},
     "output_type": "execute_result"
    }
   ],
   "source": [
    "clf = AdaBoostClassifier(DecisionTreeClassifier())\n",
    "clf.get_params()"
   ]
  },
  {
   "cell_type": "code",
   "execution_count": 22,
   "metadata": {},
   "outputs": [
    {
     "name": "stdout",
     "output_type": "stream",
     "text": [
      "Elapsed computation time: 3.159 mins\n"
     ]
    }
   ],
   "source": [
    "param_grid = {'learning_rate': [0.1],\n",
    "              'n_estimators':[50],\n",
    "              'random_state': [42],\n",
    "              'base_estimator__max_depth': [1, 3],\n",
    "              'base_estimator__max_features': [20, None]}\n",
    "\n",
    "start_time = time.time()\n",
    "\n",
    "ada = GridSearchCV(estimator=clf, param_grid=param_grid, scoring='roc_auc', cv=5, n_jobs = 3)\n",
    "ada_result =  ada.fit(X_processed, y)\n",
    "\n",
    "elapsed_time = (time.time() - start_time) / 60\n",
    "print('Elapsed computation time: {:.3f} mins'.format(elapsed_time))"
   ]
  },
  {
   "cell_type": "code",
   "execution_count": 23,
   "metadata": {},
   "outputs": [
    {
     "name": "stdout",
     "output_type": "stream",
     "text": [
      "0.7636689583386754\n",
      "AdaBoostClassifier(algorithm='SAMME.R',\n",
      "                   base_estimator=DecisionTreeClassifier(ccp_alpha=0.0,\n",
      "                                                         class_weight=None,\n",
      "                                                         criterion='gini',\n",
      "                                                         max_depth=1,\n",
      "                                                         max_features=None,\n",
      "                                                         max_leaf_nodes=None,\n",
      "                                                         min_impurity_decrease=0.0,\n",
      "                                                         min_impurity_split=None,\n",
      "                                                         min_samples_leaf=1,\n",
      "                                                         min_samples_split=2,\n",
      "                                                         min_weight_fraction_leaf=0.0,\n",
      "                                                         presort='deprecated',\n",
      "                                                         random_state=None,\n",
      "                                                         splitter='best'),\n",
      "                   learning_rate=0.1, n_estimators=50, random_state=42)\n"
     ]
    }
   ],
   "source": [
    "print(ada.best_score_)\n",
    "print(ada.best_estimator_)"
   ]
  },
  {
   "cell_type": "code",
   "execution_count": 24,
   "metadata": {},
   "outputs": [
    {
     "name": "stdout",
     "output_type": "stream",
     "text": [
      "0.700693 (0.026409) with: {'base_estimator__max_depth': 1, 'base_estimator__max_features': 20, 'learning_rate': 0.1, 'n_estimators': 50, 'random_state': 42}\n",
      "0.763669 (0.022653) with: {'base_estimator__max_depth': 1, 'base_estimator__max_features': None, 'learning_rate': 0.1, 'n_estimators': 50, 'random_state': 42}\n",
      "0.651994 (0.038511) with: {'base_estimator__max_depth': 3, 'base_estimator__max_features': 20, 'learning_rate': 0.1, 'n_estimators': 50, 'random_state': 42}\n",
      "0.687117 (0.041849) with: {'base_estimator__max_depth': 3, 'base_estimator__max_features': None, 'learning_rate': 0.1, 'n_estimators': 50, 'random_state': 42}\n"
     ]
    }
   ],
   "source": [
    "means = ada_result.cv_results_['mean_test_score']\n",
    "stds = ada_result.cv_results_['std_test_score']\n",
    "params = ada_result.cv_results_['params']\n",
    "for mean, stdev, param in zip(means, stds, params):\n",
    "    print(\"%f (%f) with: %r\" % (mean, stdev, param))"
   ]
  },
  {
   "cell_type": "code",
   "execution_count": 25,
   "metadata": {},
   "outputs": [],
   "source": [
    "pickle.dump(ada.best_estimator_, open('models/ada_model4.pkl', 'wb'))"
   ]
  },
  {
   "cell_type": "markdown",
   "metadata": {},
   "source": [
    "## Model 3: LightGBM"
   ]
  },
  {
   "cell_type": "code",
   "execution_count": 26,
   "metadata": {},
   "outputs": [
    {
     "data": {
      "text/plain": [
       "{'boosting_type': 'gbdt',\n",
       " 'class_weight': None,\n",
       " 'colsample_bytree': 1.0,\n",
       " 'importance_type': 'split',\n",
       " 'learning_rate': 0.1,\n",
       " 'max_depth': -1,\n",
       " 'min_child_samples': 20,\n",
       " 'min_child_weight': 0.001,\n",
       " 'min_split_gain': 0.0,\n",
       " 'n_estimators': 100,\n",
       " 'n_jobs': -1,\n",
       " 'num_leaves': 31,\n",
       " 'objective': 'binary',\n",
       " 'random_state': None,\n",
       " 'reg_alpha': 0.0,\n",
       " 'reg_lambda': 0.0,\n",
       " 'silent': True,\n",
       " 'subsample': 1.0,\n",
       " 'subsample_for_bin': 200000,\n",
       " 'subsample_freq': 0,\n",
       " 'metric': 'auc'}"
      ]
     },
     "execution_count": 26,
     "metadata": {},
     "output_type": "execute_result"
    }
   ],
   "source": [
    "lgbm_clf = lgb.LGBMClassifier(objective='binary', metric='auc')\n",
    "lgbm_clf.get_params()"
   ]
  },
  {
   "cell_type": "code",
   "execution_count": 27,
   "metadata": {},
   "outputs": [
    {
     "name": "stderr",
     "output_type": "stream",
     "text": [
      "/Users/jamancilla/anaconda3/lib/python3.7/site-packages/lightgbm/engine.py:148: UserWarning: Found `num_iterations` in params. Will use it instead of argument\n",
      "  warnings.warn(\"Found `{}` in params. Will use it instead of argument\".format(alias))\n",
      "/Users/jamancilla/anaconda3/lib/python3.7/site-packages/lightgbm/engine.py:148: UserWarning: Found `num_iterations` in params. Will use it instead of argument\n",
      "  warnings.warn(\"Found `{}` in params. Will use it instead of argument\".format(alias))\n",
      "/Users/jamancilla/anaconda3/lib/python3.7/site-packages/lightgbm/engine.py:148: UserWarning: Found `num_iterations` in params. Will use it instead of argument\n",
      "  warnings.warn(\"Found `{}` in params. Will use it instead of argument\".format(alias))\n",
      "/Users/jamancilla/anaconda3/lib/python3.7/site-packages/lightgbm/engine.py:148: UserWarning: Found `num_iterations` in params. Will use it instead of argument\n",
      "  warnings.warn(\"Found `{}` in params. Will use it instead of argument\".format(alias))\n",
      "/Users/jamancilla/anaconda3/lib/python3.7/site-packages/lightgbm/engine.py:148: UserWarning: Found `num_iterations` in params. Will use it instead of argument\n",
      "  warnings.warn(\"Found `{}` in params. Will use it instead of argument\".format(alias))\n",
      "/Users/jamancilla/anaconda3/lib/python3.7/site-packages/lightgbm/engine.py:148: UserWarning: Found `num_iterations` in params. Will use it instead of argument\n",
      "  warnings.warn(\"Found `{}` in params. Will use it instead of argument\".format(alias))\n",
      "/Users/jamancilla/anaconda3/lib/python3.7/site-packages/lightgbm/engine.py:148: UserWarning: Found `num_iterations` in params. Will use it instead of argument\n",
      "  warnings.warn(\"Found `{}` in params. Will use it instead of argument\".format(alias))\n",
      "/Users/jamancilla/anaconda3/lib/python3.7/site-packages/lightgbm/engine.py:148: UserWarning: Found `num_iterations` in params. Will use it instead of argument\n",
      "  warnings.warn(\"Found `{}` in params. Will use it instead of argument\".format(alias))\n",
      "/Users/jamancilla/anaconda3/lib/python3.7/site-packages/lightgbm/engine.py:148: UserWarning: Found `num_iterations` in params. Will use it instead of argument\n",
      "  warnings.warn(\"Found `{}` in params. Will use it instead of argument\".format(alias))\n",
      "/Users/jamancilla/anaconda3/lib/python3.7/site-packages/lightgbm/engine.py:148: UserWarning: Found `num_iterations` in params. Will use it instead of argument\n",
      "  warnings.warn(\"Found `{}` in params. Will use it instead of argument\".format(alias))\n",
      "/Users/jamancilla/anaconda3/lib/python3.7/site-packages/lightgbm/engine.py:148: UserWarning: Found `num_iterations` in params. Will use it instead of argument\n",
      "  warnings.warn(\"Found `{}` in params. Will use it instead of argument\".format(alias))\n"
     ]
    },
    {
     "name": "stdout",
     "output_type": "stream",
     "text": [
      "Elapsed computation time: 0.876 mins\n"
     ]
    }
   ],
   "source": [
    "param_grid = {'learning_rate': [0.01],\n",
    "              'num_iterations': [200],\n",
    "              'boosting_type': ['gbdt','dart'],\n",
    "              'num_leaves': [62],\n",
    "              'random_state': [42]}\n",
    "\n",
    "start_time = time.time()\n",
    "\n",
    "lgbm = GridSearchCV(estimator=lgbm_clf, param_grid=param_grid, scoring='roc_auc', cv=5)\n",
    "lgbm_result = lgbm.fit(X_processed, y)\n",
    "\n",
    "elapsed_time = (time.time() - start_time) / 60\n",
    "print('Elapsed computation time: {:.3f} mins'.format(elapsed_time))"
   ]
  },
  {
   "cell_type": "code",
   "execution_count": 28,
   "metadata": {
    "scrolled": true
   },
   "outputs": [
    {
     "name": "stdout",
     "output_type": "stream",
     "text": [
      "0.7598203476237045\n",
      "LGBMClassifier(boosting_type='dart', class_weight=None, colsample_bytree=1.0,\n",
      "               importance_type='split', learning_rate=0.01, max_depth=-1,\n",
      "               metric='auc', min_child_samples=20, min_child_weight=0.001,\n",
      "               min_split_gain=0.0, n_estimators=100, n_jobs=-1,\n",
      "               num_iterations=200, num_leaves=62, objective='binary',\n",
      "               random_state=42, reg_alpha=0.0, reg_lambda=0.0, silent=True,\n",
      "               subsample=1.0, subsample_for_bin=200000, subsample_freq=0)\n"
     ]
    }
   ],
   "source": [
    "print(lgbm.best_score_)\n",
    "print(lgbm.best_estimator_)"
   ]
  },
  {
   "cell_type": "code",
   "execution_count": 29,
   "metadata": {},
   "outputs": [
    {
     "name": "stdout",
     "output_type": "stream",
     "text": [
      "0.752557 (0.027327) with: {'boosting_type': 'gbdt', 'learning_rate': 0.01, 'num_iterations': 200, 'num_leaves': 62, 'random_state': 42}\n",
      "0.759820 (0.022884) with: {'boosting_type': 'dart', 'learning_rate': 0.01, 'num_iterations': 200, 'num_leaves': 62, 'random_state': 42}\n"
     ]
    }
   ],
   "source": [
    "means = lgbm_result.cv_results_['mean_test_score']\n",
    "stds = lgbm_result.cv_results_['std_test_score']\n",
    "params = lgbm_result.cv_results_['params']\n",
    "for mean, stdev, param in zip(means, stds, params):\n",
    "    print(\"%f (%f) with: %r\" % (mean, stdev, param))"
   ]
  },
  {
   "cell_type": "code",
   "execution_count": 30,
   "metadata": {},
   "outputs": [],
   "source": [
    "pickle.dump(lgbm.best_estimator_, open('models/lgbm_model4.pkl', 'wb'))"
   ]
  },
  {
   "cell_type": "markdown",
   "metadata": {},
   "source": [
    "## <a id=\"Kaggle-Competition\">Part 3: Kaggle Competition<br></a>\n"
   ]
  },
  {
   "cell_type": "code",
   "execution_count": 61,
   "metadata": {},
   "outputs": [],
   "source": [
    "# Load feature info\n",
    "feat_info = pd.read_csv('data/features.csv')\n",
    "feat_info.set_index('attribute', inplace=True)\n",
    "\n",
    "feat_info['missing_or_unknown'] = feat_info['missing_or_unknown'].apply(dsp.parse_missing)"
   ]
  },
  {
   "cell_type": "code",
   "execution_count": 62,
   "metadata": {},
   "outputs": [
    {
     "name": "stderr",
     "output_type": "stream",
     "text": [
      "/Users/jamancilla/.local/lib/python3.7/site-packages/IPython/core/interactiveshell.py:3063: DtypeWarning: Columns (19,20) have mixed types.Specify dtype option on import or set low_memory=False.\n",
      "  interactivity=interactivity, compiler=compiler, result=result)\n"
     ]
    }
   ],
   "source": [
    "mailout_test = pd.read_csv('data/Udacity_MAILOUT_052018_TEST.csv', sep=';')"
   ]
  },
  {
   "cell_type": "code",
   "execution_count": 63,
   "metadata": {},
   "outputs": [],
   "source": [
    "mailout_test_clean = dsp.clean_data_mailout(mailout_test, feat_info)"
   ]
  },
  {
   "cell_type": "code",
   "execution_count": 64,
   "metadata": {},
   "outputs": [],
   "source": [
    "mailout_test_clean.to_csv('data/Udacity_MAILOUT_052018_TEST_clean.csv', sep=';')"
   ]
  },
  {
   "cell_type": "code",
   "execution_count": 65,
   "metadata": {},
   "outputs": [
    {
     "name": "stdout",
     "output_type": "stream",
     "text": [
      "(42833, 384)\n"
     ]
    }
   ],
   "source": [
    "mailout_test_clean = pd.read_csv('data/Udacity_MAILOUT_052018_TEST_clean.csv', sep=';')\n",
    "print(mailout_test_clean.shape)\n",
    "lnr = mailout_test_clean.LNR\n",
    "mailout_test_clean.drop(['LNR'], axis=1, inplace=True)"
   ]
  },
  {
   "cell_type": "code",
   "execution_count": 66,
   "metadata": {},
   "outputs": [
    {
     "name": "stderr",
     "output_type": "stream",
     "text": [
      "/Users/jamancilla/anaconda3/lib/python3.7/site-packages/sklearn/compose/_column_transformer.py:430: FutureWarning: Given feature/column names or counts do not match the ones for the data given during fit. This will fail from v0.24.\n",
      "  FutureWarning)\n"
     ]
    }
   ],
   "source": [
    "# Preprocess\n",
    "test_processed = preprocessor.transform(mailout_test_clean)"
   ]
  },
  {
   "cell_type": "code",
   "execution_count": 67,
   "metadata": {},
   "outputs": [
    {
     "data": {
      "text/html": [
       "<div>\n",
       "<style scoped>\n",
       "    .dataframe tbody tr th:only-of-type {\n",
       "        vertical-align: middle;\n",
       "    }\n",
       "\n",
       "    .dataframe tbody tr th {\n",
       "        vertical-align: top;\n",
       "    }\n",
       "\n",
       "    .dataframe thead th {\n",
       "        text-align: right;\n",
       "    }\n",
       "</style>\n",
       "<table border=\"1\" class=\"dataframe\">\n",
       "  <thead>\n",
       "    <tr style=\"text-align: right;\">\n",
       "      <th></th>\n",
       "      <th>LNR</th>\n",
       "      <th>RESPONSE</th>\n",
       "    </tr>\n",
       "  </thead>\n",
       "  <tbody>\n",
       "    <tr>\n",
       "      <th>0</th>\n",
       "      <td>1754</td>\n",
       "      <td>0.985616</td>\n",
       "    </tr>\n",
       "    <tr>\n",
       "      <th>1</th>\n",
       "      <td>1770</td>\n",
       "      <td>0.985616</td>\n",
       "    </tr>\n",
       "    <tr>\n",
       "      <th>2</th>\n",
       "      <td>1465</td>\n",
       "      <td>0.988564</td>\n",
       "    </tr>\n",
       "    <tr>\n",
       "      <th>3</th>\n",
       "      <td>1470</td>\n",
       "      <td>0.988564</td>\n",
       "    </tr>\n",
       "    <tr>\n",
       "      <th>4</th>\n",
       "      <td>1478</td>\n",
       "      <td>0.988564</td>\n",
       "    </tr>\n",
       "  </tbody>\n",
       "</table>\n",
       "</div>"
      ],
      "text/plain": [
       "    LNR  RESPONSE\n",
       "0  1754  0.985616\n",
       "1  1770  0.985616\n",
       "2  1465  0.988564\n",
       "3  1470  0.988564\n",
       "4  1478  0.988564"
      ]
     },
     "execution_count": 67,
     "metadata": {},
     "output_type": "execute_result"
    }
   ],
   "source": [
    "# Gradient Boost\n",
    "gb_model = joblib.load('models/gb_model4.pkl')\n",
    "preds = gb_model.predict_proba(test_processed)\n",
    "submission = pd.DataFrame({'LNR':lnr, 'RESPONSE':preds[:,0]})\n",
    "submission.to_csv('submission/gb_preds.csv', index=False)\n",
    "submission.head()"
   ]
  },
  {
   "cell_type": "code",
   "execution_count": 68,
   "metadata": {},
   "outputs": [
    {
     "data": {
      "text/html": [
       "<div>\n",
       "<style scoped>\n",
       "    .dataframe tbody tr th:only-of-type {\n",
       "        vertical-align: middle;\n",
       "    }\n",
       "\n",
       "    .dataframe tbody tr th {\n",
       "        vertical-align: top;\n",
       "    }\n",
       "\n",
       "    .dataframe thead th {\n",
       "        text-align: right;\n",
       "    }\n",
       "</style>\n",
       "<table border=\"1\" class=\"dataframe\">\n",
       "  <thead>\n",
       "    <tr style=\"text-align: right;\">\n",
       "      <th></th>\n",
       "      <th>LNR</th>\n",
       "      <th>RESPONSE</th>\n",
       "    </tr>\n",
       "  </thead>\n",
       "  <tbody>\n",
       "    <tr>\n",
       "      <th>0</th>\n",
       "      <td>1754</td>\n",
       "      <td>0.676132</td>\n",
       "    </tr>\n",
       "    <tr>\n",
       "      <th>1</th>\n",
       "      <td>1770</td>\n",
       "      <td>0.671170</td>\n",
       "    </tr>\n",
       "    <tr>\n",
       "      <th>2</th>\n",
       "      <td>1465</td>\n",
       "      <td>0.756437</td>\n",
       "    </tr>\n",
       "    <tr>\n",
       "      <th>3</th>\n",
       "      <td>1470</td>\n",
       "      <td>0.755163</td>\n",
       "    </tr>\n",
       "    <tr>\n",
       "      <th>4</th>\n",
       "      <td>1478</td>\n",
       "      <td>0.739913</td>\n",
       "    </tr>\n",
       "  </tbody>\n",
       "</table>\n",
       "</div>"
      ],
      "text/plain": [
       "    LNR  RESPONSE\n",
       "0  1754  0.676132\n",
       "1  1770  0.671170\n",
       "2  1465  0.756437\n",
       "3  1470  0.755163\n",
       "4  1478  0.739913"
      ]
     },
     "execution_count": 68,
     "metadata": {},
     "output_type": "execute_result"
    }
   ],
   "source": [
    "# AdaBoost\n",
    "ada_model = joblib.load('models/ada_model4.pkl')\n",
    "submission = make_submission(ada_model, test_processed, lnr)\n",
    "submission.to_csv('submission/ada_preds.csv', index=False)\n",
    "submission.head()"
   ]
  },
  {
   "cell_type": "code",
   "execution_count": 69,
   "metadata": {},
   "outputs": [
    {
     "data": {
      "text/html": [
       "<div>\n",
       "<style scoped>\n",
       "    .dataframe tbody tr th:only-of-type {\n",
       "        vertical-align: middle;\n",
       "    }\n",
       "\n",
       "    .dataframe tbody tr th {\n",
       "        vertical-align: top;\n",
       "    }\n",
       "\n",
       "    .dataframe thead th {\n",
       "        text-align: right;\n",
       "    }\n",
       "</style>\n",
       "<table border=\"1\" class=\"dataframe\">\n",
       "  <thead>\n",
       "    <tr style=\"text-align: right;\">\n",
       "      <th></th>\n",
       "      <th>LNR</th>\n",
       "      <th>RESPONSE</th>\n",
       "    </tr>\n",
       "  </thead>\n",
       "  <tbody>\n",
       "    <tr>\n",
       "      <th>0</th>\n",
       "      <td>1754</td>\n",
       "      <td>0.807328</td>\n",
       "    </tr>\n",
       "    <tr>\n",
       "      <th>1</th>\n",
       "      <td>1770</td>\n",
       "      <td>0.829305</td>\n",
       "    </tr>\n",
       "    <tr>\n",
       "      <th>2</th>\n",
       "      <td>1465</td>\n",
       "      <td>0.848008</td>\n",
       "    </tr>\n",
       "    <tr>\n",
       "      <th>3</th>\n",
       "      <td>1470</td>\n",
       "      <td>0.848012</td>\n",
       "    </tr>\n",
       "    <tr>\n",
       "      <th>4</th>\n",
       "      <td>1478</td>\n",
       "      <td>0.848018</td>\n",
       "    </tr>\n",
       "  </tbody>\n",
       "</table>\n",
       "</div>"
      ],
      "text/plain": [
       "    LNR  RESPONSE\n",
       "0  1754  0.807328\n",
       "1  1770  0.829305\n",
       "2  1465  0.848008\n",
       "3  1470  0.848012\n",
       "4  1478  0.848018"
      ]
     },
     "execution_count": 69,
     "metadata": {},
     "output_type": "execute_result"
    }
   ],
   "source": [
    "# LightGBM\n",
    "lgbm_model = joblib.load('models/lgbm_model4.pkl')\n",
    "submission = make_submission(lgbm_model, test_processed, lnr)\n",
    "submission.to_csv('submission/lgbm_preds.csv', index=False)\n",
    "submission.head()"
   ]
  },
  {
   "cell_type": "code",
   "execution_count": null,
   "metadata": {},
   "outputs": [],
   "source": []
  }
 ],
 "metadata": {
  "kernelspec": {
   "display_name": "Python 3",
   "language": "python",
   "name": "python3"
  },
  "language_info": {
   "codemirror_mode": {
    "name": "ipython",
    "version": 3
   },
   "file_extension": ".py",
   "mimetype": "text/x-python",
   "name": "python",
   "nbconvert_exporter": "python",
   "pygments_lexer": "ipython3",
   "version": "3.7.3"
  }
 },
 "nbformat": 4,
 "nbformat_minor": 2
}
