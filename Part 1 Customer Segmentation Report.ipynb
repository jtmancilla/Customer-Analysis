{
 "cells": [
  {
   "cell_type": "markdown",
   "metadata": {},
   "source": [
    "## <a id=\"Customer-Segmentation-Report\">Part 1: Customer Segmentation Report</a>\n",
    "\n",
    "The main bulk of your analysis will come in this part of the project. Here, you should use unsupervised learning techniques to describe the relationship between the demographics of the company's existing customers and the general population of Germany. By the end of this part, you should be able to describe parts of the general population that are more likely to be part of the mail-order company's main customer base, and which parts of the general population are less so."
   ]
  },
  {
   "cell_type": "code",
   "execution_count": 1,
   "metadata": {},
   "outputs": [
    {
     "name": "stderr",
     "output_type": "stream",
     "text": [
      "/Users/jamancilla/anaconda3/lib/python3.7/site-packages/statsmodels/tools/_testing.py:19: FutureWarning: pandas.util.testing is deprecated. Use the functions in the public API at pandas.testing instead.\n",
      "  import pandas.util.testing as tm\n",
      "/Users/jamancilla/anaconda3/lib/python3.7/site-packages/sklearn/externals/joblib/__init__.py:15: FutureWarning: sklearn.externals.joblib is deprecated in 0.21 and will be removed in 0.23. Please import this functionality directly from joblib, which can be installed with: pip install joblib. If this warning is raised when loading pickled models, you may need to re-serialize those models with scikit-learn 0.21+.\n",
      "  warnings.warn(msg, category=FutureWarning)\n"
     ]
    }
   ],
   "source": [
    "import numpy as np\n",
    "import pandas as pd\n",
    "import sys\n",
    "import pickle\n",
    "import matplotlib\n",
    "import matplotlib.pyplot as plt\n",
    "import seaborn as sns\n",
    "\n",
    "from sklearn import preprocessing\n",
    "from sklearn.pipeline import Pipeline\n",
    "from sklearn.preprocessing import StandardScaler\n",
    "from sklearn.impute import SimpleImputer\n",
    "from sklearn.decomposition import PCA\n",
    "from sklearn.cluster import KMeans\n",
    "from sklearn.externals import joblib\n",
    "import warnings\n",
    "\n",
    "warnings.filterwarnings('ignore')\n",
    "%matplotlib inline\n",
    "\n",
    "import dsp\n"
   ]
  },
  {
   "cell_type": "code",
   "execution_count": 2,
   "metadata": {},
   "outputs": [],
   "source": [
    "# load the cleaned data\n",
    "azdias_clean = pd.read_csv('data/Udacity_AZDIAS_052018_clean.csv', sep=';')"
   ]
  },
  {
   "cell_type": "code",
   "execution_count": 3,
   "metadata": {},
   "outputs": [],
   "source": [
    "# Load cleaned customer data\n",
    "customers_clean = pd.read_csv('data/Udacity_CUSTOMERS_052018_clean.csv', sep=';')"
   ]
  },
  {
   "cell_type": "markdown",
   "metadata": {},
   "source": [
    "### Step 1. Feature Scaling"
   ]
  },
  {
   "cell_type": "code",
   "execution_count": 4,
   "metadata": {},
   "outputs": [
    {
     "name": "stdout",
     "output_type": "stream",
     "text": [
      "0\n"
     ]
    }
   ],
   "source": [
    "imputer = SimpleImputer(missing_values=np.nan, strategy='median')\n",
    "azdias_impute = imputer.fit_transform(azdias_clean)\n",
    "print(np.isnan(azdias_impute).sum())"
   ]
  },
  {
   "cell_type": "code",
   "execution_count": 5,
   "metadata": {},
   "outputs": [],
   "source": [
    "# Apply feature scaling to the general population demographics data.\n",
    "scaler = StandardScaler()\n",
    "azdias_scaled = scaler.fit_transform(azdias_impute)"
   ]
  },
  {
   "cell_type": "markdown",
   "metadata": {},
   "source": [
    "### Step 2. PCA"
   ]
  },
  {
   "cell_type": "code",
   "execution_count": 6,
   "metadata": {},
   "outputs": [],
   "source": [
    "# Apply PCA to the data.\n",
    "pca = PCA()\n",
    "azdias_pca = pca.fit_transform(azdias_scaled)\n"
   ]
  },
  {
   "cell_type": "code",
   "execution_count": 7,
   "metadata": {},
   "outputs": [
    {
     "data": {
      "image/png": "[encoded data removed]",
      "text/plain": [
       "<Figure size 432x288 with 1 Axes>"
      ]
     },
     "metadata": {
      "needs_background": "light"
     },
     "output_type": "display_data"
    }
   ],
   "source": [
    "# Investigate the variance accounted for by each principal component.\n",
    "num_components=len(pca.explained_variance_ratio_)\n",
    "ind = np.arange(num_components)\n",
    "vals = pca.explained_variance_ratio_\n",
    "plt.bar(ind, vals)\n",
    "plt.show()"
   ]
  },
  {
   "cell_type": "code",
   "execution_count": 8,
   "metadata": {},
   "outputs": [
    {
     "data": {
      "image/png": "[encoded data removed]",
      "text/plain": [
       "<Figure size 432x288 with 1 Axes>"
      ]
     },
     "metadata": {
      "needs_background": "light"
     },
     "output_type": "display_data"
    }
   ],
   "source": [
    "cumvals = np.cumsum(vals)\n",
    "plt.plot(cumvals)\n",
    "plt.show()"
   ]
  },
  {
   "cell_type": "code",
   "execution_count": 9,
   "metadata": {},
   "outputs": [
    {
     "name": "stdout",
     "output_type": "stream",
     "text": [
      "66 0.8542654212225473\n"
     ]
    }
   ],
   "source": [
    "threshold = .85\n",
    "i = np.argmax(cumvals > threshold)\n",
    "print(i, cumvals[i])"
   ]
  },
  {
   "cell_type": "code",
   "execution_count": 10,
   "metadata": {},
   "outputs": [],
   "source": [
    "# Re-apply PCA to the data while selecting for number of components to retain.\n",
    "pca = PCA(i)\n",
    "azdias_pca = pca.fit_transform(azdias_scaled)"
   ]
  },
  {
   "cell_type": "markdown",
   "metadata": {},
   "source": [
    "#### Step 2.1 PCA Interpretation"
   ]
  },
  {
   "cell_type": "markdown",
   "metadata": {},
   "source": [
    "#### First principal component"
   ]
  },
  {
   "cell_type": "code",
   "execution_count": 11,
   "metadata": {},
   "outputs": [
    {
     "name": "stdout",
     "output_type": "stream",
     "text": [
      "11.59%\n",
      "Lowest:\n",
      "\tHH_EINKOMMEN_SCORE   -0.151\n",
      "\tCAMEO_DEUG_2015      -0.144\n",
      "\twealth               -0.142\n",
      "Highest:\n",
      "\tD19_VERSAND_ANZ_24   0.159\n",
      "\tONLINE_AFFINITAET    0.167\n",
      "\tD19_GESAMT_ANZ_24    0.173\n"
     ]
    }
   ],
   "source": [
    "i = 0\n",
    "print('{:5.2%}'.format(vals[i]))\n",
    "dsp.print_interesting_features(azdias_clean.columns.values, pca.components_, i)"
   ]
  },
  {
   "cell_type": "markdown",
   "metadata": {},
   "source": [
    "Lowest:\n",
    "- HH_EINKOMMEN_SCORE is estimated household net income (1 = highest income group)\n",
    "- CAMEO_DEUG_2015 is CAMEO major classification 2015 (1 = upper class)\n",
    "- wealth was derived from CAMEO_INTL_2015 (1 = wealthy)\n",
    "\n",
    "Highest:\n",
    "- D19_VERSAND_ANZ_24 is transaction activity MAIL-ORDER in the last 12 months (6 = very high activity)\n",
    "- ONLINE_AFFINITAET is online affinity (5 = highest)\n",
    "- D19_GESAMT_ANZ_24 is mail-order transaction activity TOTAL POOL in the last 24 months (6 = very high activity)\n",
    "\n",
    "PCA0 is an indicator of purchasing activity and wealth. Note, the indicators for wealth are all inverted with 1 indicating highest wealth."
   ]
  },
  {
   "cell_type": "markdown",
   "metadata": {},
   "source": [
    "#### Second principal component"
   ]
  },
  {
   "cell_type": "code",
   "execution_count": 12,
   "metadata": {},
   "outputs": [
    {
     "name": "stdout",
     "output_type": "stream",
     "text": [
      "7.91%\n",
      "Lowest:\n",
      "\tALTERSKATEGORIE_GROB -0.231\n",
      "\tFINANZ_VORSORGER     -0.215\n",
      "\tFINANZ_MINIMALIST    -0.185\n",
      "Highest:\n",
      "\tSEMIO_REL            0.208\n",
      "\tdecade               0.229\n",
      "\tFINANZ_SPARER        0.240\n"
     ]
    }
   ],
   "source": [
    "i = 1\n",
    "print('{:5.2%}'.format(vals[i]))\n",
    "dsp.print_interesting_features(azdias_clean.columns.values, pca.components_, i)"
   ]
  },
  {
   "cell_type": "markdown",
   "metadata": {},
   "source": [
    "Lowest:\n",
    "- ALTERSKATEGORIE_GROB is age major category (4\t= > 60 years)\n",
    "- FINANZ_VORSORGER is financial typology: be prepared  (1 = very high)\n",
    "- FINANZ_MINIMALIST is financial typology: low financial interest (1 = very high)\n",
    "\n",
    "Highest:\n",
    "- SEMIO_REL is affinity indicating in what way the person is religious (1 = highest affinity)\n",
    "- decade was derived from PRAEGENDE_JUGENDJAHRE (1 = 40's, 15 = 90's)\n",
    "- FINANZ_SPARER is financial typology: money saver (1 = very high)\n",
    "\n",
    "PCA1 is a indicator of lack of religiousness, youth, free spending"
   ]
  },
  {
   "cell_type": "markdown",
   "metadata": {},
   "source": [
    "#### Third principal component"
   ]
  },
  {
   "cell_type": "code",
   "execution_count": 13,
   "metadata": {},
   "outputs": [
    {
     "name": "stdout",
     "output_type": "stream",
     "text": [
      "5.61%\n",
      "Lowest:\n",
      "\tSEMIO_KULT           -0.171\n",
      "\tSEMIO_REL            -0.166\n",
      "\tPLZ8_ANTG1           -0.165\n",
      "Highest:\n",
      "\tEWDICHTE             0.169\n",
      "\tPLZ8_ANTG3           0.170\n",
      "\tORTSGR_KLS9          0.172\n"
     ]
    }
   ],
   "source": [
    "i = 2\n",
    "print('{:5.2%}'.format(vals[i]))\n",
    "dsp.print_interesting_features(azdias_clean.columns.values, pca.components_, i)"
   ]
  },
  {
   "cell_type": "markdown",
   "metadata": {},
   "source": [
    "Lowest:\n",
    "- SEMIO_KULT is affinity indicating in what way the person is cultural minded (1 = highest affinity)\n",
    "- SEMIO_REL is affinity indicating in what way the person is religious (1 = highest affinity)\n",
    "- PLZ8_ANTG1 is number of 1-2 family houses in the zipcode (3 = high share)\n",
    "\n",
    "Highest:\n",
    "- EWDICHTE is population density (6 = densist)\n",
    "- PLZ8_ANTG3 is number of 6-10 family houses in the zipcode (3 = high share)\n",
    "- ORTSGR_KLS9 is size of the community, classified number of inhabitants (9 = > 700.000  inhabitants)\n",
    "\n",
    "PCA2 is an indicator of population density and cultural minded/religiousness"
   ]
  },
  {
   "cell_type": "markdown",
   "metadata": {},
   "source": [
    "#### Preprocess fit function"
   ]
  },
  {
   "cell_type": "code",
   "execution_count": 14,
   "metadata": {},
   "outputs": [],
   "source": [
    "azdias_pca, imputer, scaler, pca = dsp.preprocess_fit(azdias_clean, pca_n=66, impute_strat='median')"
   ]
  },
  {
   "cell_type": "code",
   "execution_count": 16,
   "metadata": {},
   "outputs": [
    {
     "name": "stdout",
     "output_type": "stream",
     "text": [
      "11.59%\n",
      "Lowest:\n",
      "\tHH_EINKOMMEN_SCORE   -0.151\n",
      "\tCAMEO_DEUG_2015      -0.144\n",
      "\twealth               -0.142\n",
      "Highest:\n",
      "\tD19_VERSAND_ANZ_24   0.159\n",
      "\tONLINE_AFFINITAET    0.167\n",
      "\tD19_GESAMT_ANZ_24    0.173\n"
     ]
    }
   ],
   "source": [
    "# Check that the function is working correctly\n",
    "vals = pca.explained_variance_ratio_\n",
    "\n",
    "# First principal component\n",
    "i = 0\n",
    "print('{:5.2%}'.format(vals[i]))\n",
    "dsp.print_interesting_features(azdias_clean.columns.values, pca.components_, i)"
   ]
  },
  {
   "cell_type": "markdown",
   "metadata": {},
   "source": [
    "### Step 3. Clustering"
   ]
  },
  {
   "cell_type": "code",
   "execution_count": 17,
   "metadata": {},
   "outputs": [],
   "source": [
    "# Over a number of different cluster counts...\n",
    "N = azdias_pca.shape[0]\n",
    "mean_d = []\n",
    "centers = range(2, 11)\n",
    "for k in centers:\n",
    "\n",
    "    # run k-means clustering on the data and...\n",
    "    kmeans = KMeans(n_clusters=k)\n",
    "    model = kmeans.fit(azdias_pca)\n",
    "    \n",
    "    # compute the average within-cluster distances.\n",
    "    mean_d.append(abs(model.score(azdias_pca))/N)\n"
   ]
  },
  {
   "cell_type": "code",
   "execution_count": 22,
   "metadata": {},
   "outputs": [
    {
     "name": "stdout",
     "output_type": "stream",
     "text": [
      "[104.33770557876389, 98.60183755655761, 94.82053132337737, 92.68092608797056, 91.02772464228707, 89.43313660799177, 88.14367018549764, 86.95582272273077, 85.95729067549705, 85.05144325691465, 84.13214814392857, 83.38811948095271, 82.69777824985744, 81.91144536959737]\n"
     ]
    },
    {
     "data": {
      "image/png": "[encoded data removed]",
      "text/plain": [
       "<Figure size 432x288 with 1 Axes>"
      ]
     },
     "metadata": {
      "needs_background": "light"
     },
     "output_type": "display_data"
    }
   ],
   "source": [
    "# Investigate the change in within-cluster distance across number of clusters.\n",
    "print(mean_d)\n",
    "plt.plot(range(2, len(mean_d) + 2), mean_d);\n",
    "\n"
   ]
  },
  {
   "cell_type": "code",
   "execution_count": 19,
   "metadata": {},
   "outputs": [
    {
     "name": "stdout",
     "output_type": "stream",
     "text": [
      "[104.33770557876389, 98.60183755655761, 94.82053132337737, 92.68092608797056, 91.02772464228707, 89.43313660799177, 88.14367018549764, 86.95582272273077, 85.95729067549705, 85.05144325691465, 84.13214814392857, 83.38811948095271, 82.69777824985744, 81.91144536959737]\n"
     ]
    },
    {
     "data": {
      "image/png": "[encoded data removed]",
      "text/plain": [
       "<Figure size 432x288 with 1 Axes>"
      ]
     },
     "metadata": {
      "needs_background": "light"
     },
     "output_type": "display_data"
    }
   ],
   "source": [
    "centers = range(11, 16)\n",
    "for k in centers:\n",
    "\n",
    "    # run k-means clustering on the data and...\n",
    "    kmeans = KMeans(n_clusters=k)\n",
    "    model = kmeans.fit(azdias_pca)\n",
    "    \n",
    "    # compute the average within-cluster distances.\n",
    "    mean_d.append(abs(model.score(azdias_pca))/N)\n",
    "\n",
    "print(mean_d)\n",
    "plt.plot(range(2, len(mean_d) + 2), mean_d);\n",
    "\n"
   ]
  },
  {
   "cell_type": "code",
   "execution_count": 20,
   "metadata": {},
   "outputs": [
    {
     "data": {
      "text/plain": [
       "array([1, 0, 0, 4, 3, 3, 3, 0, 6, 5], dtype=int32)"
      ]
     },
     "execution_count": 20,
     "metadata": {},
     "output_type": "execute_result"
    }
   ],
   "source": [
    "# Train clustering model with k=8\n",
    "k = 8\n",
    "kmeans = KMeans(n_clusters=k)\n",
    "clust_model = kmeans.fit(azdias_pca)\n",
    "\n",
    "population_labels = clust_model.predict(azdias_pca)\n",
    "population_labels[:10]"
   ]
  },
  {
   "cell_type": "markdown",
   "metadata": {},
   "source": [
    "#### Step 3.1 Build model"
   ]
  },
  {
   "cell_type": "code",
   "execution_count": 23,
   "metadata": {},
   "outputs": [
    {
     "name": "stdout",
     "output_type": "stream",
     "text": [
      "Fitting model...\n",
      "Saving model...\n"
     ]
    }
   ],
   "source": [
    "pca_n = 76\n",
    "n_clusters = 5\n",
    "clust_model = dsp.build_model(pca_n, n_clusters)\n",
    "\n",
    "print('Fitting model...')\n",
    "clust_model.fit(azdias_clean)\n",
    "\n",
    "print('Saving model...')\n",
    "f = open('clust_model' + str(n_clusters) + '.pkl', 'wb')\n",
    "pickle.dump(clust_model, f)"
   ]
  },
  {
   "cell_type": "code",
   "execution_count": 5,
   "metadata": {},
   "outputs": [],
   "source": [
    "# or load model if already fitted\n",
    "clust_model = joblib.load('models/clust_model5.pkl')"
   ]
  },
  {
   "cell_type": "code",
   "execution_count": 6,
   "metadata": {},
   "outputs": [
    {
     "data": {
      "text/plain": [
       "array([3, 1, 1, 0, 3, 3, 4, 1, 0, 2], dtype=int32)"
      ]
     },
     "execution_count": 6,
     "metadata": {},
     "output_type": "execute_result"
    }
   ],
   "source": [
    "population_labels = clust_model.predict(azdias_clean)\n",
    "population_labels[:10]"
   ]
  },
  {
   "cell_type": "code",
   "execution_count": 7,
   "metadata": {},
   "outputs": [
    {
     "data": {
      "text/plain": [
       "array([1, 2, 1, 0, 1, 1, 1, 2, 0, 0], dtype=int32)"
      ]
     },
     "execution_count": 7,
     "metadata": {},
     "output_type": "execute_result"
    }
   ],
   "source": [
    "customer_labels = clust_model.predict(customers_clean)\n",
    "customer_labels[:10]"
   ]
  },
  {
   "cell_type": "code",
   "execution_count": 8,
   "metadata": {
    "scrolled": true
   },
   "outputs": [
    {
     "data": {
      "image/png": "[encoded data removed]",
      "text/plain": [
       "<Figure size 432x288 with 2 Axes>"
      ]
     },
     "metadata": {
      "needs_background": "light"
     },
     "output_type": "display_data"
    }
   ],
   "source": [
    "# Five clusters\n",
    "dsp.print_cluster_props(population_labels,customer_labels)"
   ]
  },
  {
   "cell_type": "code",
   "execution_count": 11,
   "metadata": {},
   "outputs": [
    {
     "name": "stdout",
     "output_type": "stream",
     "text": [
      "PCA 0\n",
      "Lowest:\n",
      "\tHH_EINKOMMEN_SCORE   -0.151\n",
      "\tCAMEO_DEUG_2015      -0.144\n",
      "\twealth               -0.142\n",
      "Highest:\n",
      "\tD19_VERSAND_ANZ_24   0.159\n",
      "\tONLINE_AFFINITAET    0.167\n",
      "\tD19_GESAMT_ANZ_24    0.173\n",
      "\n",
      "PCA 1\n",
      "Lowest:\n",
      "\tALTERSKATEGORIE_GROB -0.231\n",
      "\tFINANZ_VORSORGER     -0.215\n",
      "\tFINANZ_MINIMALIST    -0.185\n",
      "Highest:\n",
      "\tSEMIO_REL            0.208\n",
      "\tdecade               0.229\n",
      "\tFINANZ_SPARER        0.240\n",
      "\n",
      "PCA 2\n",
      "Lowest:\n",
      "\tSEMIO_KULT           -0.171\n",
      "\tSEMIO_REL            -0.166\n",
      "\tPLZ8_ANTG1           -0.165\n",
      "Highest:\n",
      "\tEWDICHTE             0.169\n",
      "\tPLZ8_ANTG3           0.170\n",
      "\tORTSGR_KLS9          0.172\n",
      "\n"
     ]
    }
   ],
   "source": [
    "# PCA\n",
    "for i in range(3):\n",
    "    print('PCA', i)\n",
    "    dsp.print_interesting_features(azdias_clean.columns.values, clust_model.named_steps['pca'].components_, i)\n",
    "    print()"
   ]
  },
  {
   "cell_type": "markdown",
   "metadata": {},
   "source": [
    "- PCA0 is an indicator of purchasing activity and wealth\n",
    "- PCA1 is a indicator of lack of religiousness, youth, free spending\n",
    "- PCA2 is an indicator of population density and urbaness"
   ]
  },
  {
   "cell_type": "code",
   "execution_count": 12,
   "metadata": {},
   "outputs": [
    {
     "data": {
      "text/plain": [
       "0    0.310877\n",
       "1    0.482777\n",
       "2    0.172527\n",
       "3    0.014422\n",
       "4    0.019398\n",
       "dtype: float64"
      ]
     },
     "execution_count": 12,
     "metadata": {},
     "output_type": "execute_result"
    }
   ],
   "source": [
    "# What kinds of people are part of a cluster that is overrepresented in the\n",
    "# customer data compared to the general population?\n",
    "\n",
    "cust = pd.Series(customer_labels)\n",
    "cust_p = cust.value_counts() / cust.value_counts().sum()\n",
    "cust_p.sort_index()"
   ]
  },
  {
   "cell_type": "code",
   "execution_count": 13,
   "metadata": {},
   "outputs": [
    {
     "data": {
      "text/html": [
       "<div>\n",
       "<style scoped>\n",
       "    .dataframe tbody tr th:only-of-type {\n",
       "        vertical-align: middle;\n",
       "    }\n",
       "\n",
       "    .dataframe tbody tr th {\n",
       "        vertical-align: top;\n",
       "    }\n",
       "\n",
       "    .dataframe thead th {\n",
       "        text-align: right;\n",
       "    }\n",
       "</style>\n",
       "<table border=\"1\" class=\"dataframe\">\n",
       "  <thead>\n",
       "    <tr style=\"text-align: right;\">\n",
       "      <th></th>\n",
       "      <th>0</th>\n",
       "      <th>1</th>\n",
       "      <th>2</th>\n",
       "    </tr>\n",
       "    <tr>\n",
       "      <th>cluster</th>\n",
       "      <th></th>\n",
       "      <th></th>\n",
       "      <th></th>\n",
       "    </tr>\n",
       "  </thead>\n",
       "  <tbody>\n",
       "    <tr>\n",
       "      <th>4</th>\n",
       "      <td>-1.649158</td>\n",
       "      <td>3.278136</td>\n",
       "      <td>-2.243211</td>\n",
       "    </tr>\n",
       "    <tr>\n",
       "      <th>3</th>\n",
       "      <td>-2.137902</td>\n",
       "      <td>2.785425</td>\n",
       "      <td>-0.455594</td>\n",
       "    </tr>\n",
       "    <tr>\n",
       "      <th>2</th>\n",
       "      <td>-3.535780</td>\n",
       "      <td>-1.392838</td>\n",
       "      <td>2.166314</td>\n",
       "    </tr>\n",
       "    <tr>\n",
       "      <th>1</th>\n",
       "      <td>0.999575</td>\n",
       "      <td>-3.344071</td>\n",
       "      <td>-1.141813</td>\n",
       "    </tr>\n",
       "    <tr>\n",
       "      <th>0</th>\n",
       "      <td>5.804745</td>\n",
       "      <td>1.350414</td>\n",
       "      <td>1.028975</td>\n",
       "    </tr>\n",
       "  </tbody>\n",
       "</table>\n",
       "</div>"
      ],
      "text/plain": [
       "                0         1         2\n",
       "cluster                              \n",
       "4       -1.649158  3.278136 -2.243211\n",
       "3       -2.137902  2.785425 -0.455594\n",
       "2       -3.535780 -1.392838  2.166314\n",
       "1        0.999575 -3.344071 -1.141813\n",
       "0        5.804745  1.350414  1.028975"
      ]
     },
     "execution_count": 13,
     "metadata": {},
     "output_type": "execute_result"
    }
   ],
   "source": [
    "# First three PCA values for Cluster Centroids\n",
    "clusters_df=pd.DataFrame(clust_model.named_steps['kmeans'].cluster_centers_[:,:3])\n",
    "clusters_df.index.name = 'cluster'\n",
    "clusters_df.sort_index(ascending=False)"
   ]
  },
  {
   "cell_type": "code",
   "execution_count": 14,
   "metadata": {},
   "outputs": [
    {
     "data": {
      "image/png": "[encoded data removed]",
      "text/plain": [
       "<Figure size 432x288 with 2 Axes>"
      ]
     },
     "metadata": {
      "needs_background": "light"
     },
     "output_type": "display_data"
    }
   ],
   "source": [
    "color_map = matplotlib.cm.get_cmap('bwr')\n",
    "\n",
    "plt.pcolor(clusters_df, cmap=color_map, vmin=-4.5, vmax=4.5);\n",
    "plt.title('First three PCA values for Clusters')\n",
    "plt.ylabel('cluster')\n",
    "plt.xlabel('PCA')\n",
    "\n",
    "plt.yticks(np.arange(0.5, len(clusters_df.index)), clusters_df.index)\n",
    "plt.xticks(np.arange(0.5, 3), clusters_df.index)\n",
    "\n",
    "plt.colorbar()\n",
    "\n",
    "plt.show()"
   ]
  },
  {
   "cell_type": "markdown",
   "metadata": {},
   "source": [
    "A heatmap of the clusters and their PCA values shows that at five clusters the clusters are easily distinguishable from one another using the first three PCA components."
   ]
  },
  {
   "cell_type": "code",
   "execution_count": null,
   "metadata": {},
   "outputs": [],
   "source": []
  }
 ],
 "metadata": {
  "kernelspec": {
   "display_name": "Python 3",
   "language": "python",
   "name": "python3"
  },
  "language_info": {
   "codemirror_mode": {
    "name": "ipython",
    "version": 3
   },
   "file_extension": ".py",
   "mimetype": "text/x-python",
   "name": "python",
   "nbconvert_exporter": "python",
   "pygments_lexer": "ipython3",
   "version": "3.7.3"
  }
 },
 "nbformat": 4,
 "nbformat_minor": 2
}
