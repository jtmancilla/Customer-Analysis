{
 "cells": [
  {
   "cell_type": "markdown",
   "metadata": {},
   "source": [
    "# Capstone Project: Create a Customer Segmentation Report for Arvato Financial Services\n",
    "\n",
    "In this project, you will analyze demographics data for customers of a mail-order sales company in Germany, comparing it against demographics information for the general population. You'll use unsupervised learning techniques to perform customer segmentation, identifying the parts of the population that best describe the core customer base of the company. Then, you'll apply what you've learned on a third dataset with demographics information for targets of a marketing campaign for the company, and use a model to predict which individuals are most likely to convert into becoming customers for the company. The data that you will use has been provided by our partners at Bertelsmann Arvato Analytics, and represents a real-life data science task.\n",
    "\n",
    "If you completed the first term of this program, you will be familiar with the first part of this project, from the unsupervised learning project. The versions of those two datasets used in this project will include many more features and has not been pre-cleaned. You are also free to choose whatever approach you'd like to analyzing the data rather than follow pre-determined steps. In your work on this project, make sure that you carefully document your steps and decisions, since your main deliverable for this project will be a blog post reporting your findings."
   ]
  },
  {
   "cell_type": "markdown",
   "metadata": {},
   "source": [
    "## Table of Contents\n",
    "\n"
   ]
  },
  {
   "cell_type": "markdown",
   "metadata": {},
   "source": [
    "\n",
    "\n",
    "[Part 0. Get to Know the Data](#\"Get-to-Know-the-Data\")<br>\n",
    "[Part 1: Customer Segmentation Report](#\"Customer-Segmentation-Report\")<br>\n",
    "[Part 2: Supervised Learning Model](#\"Supervised-Learning-Model\")<br>\n",
    "[Part 3: Kaggle Competition](#\"Kaggle-Competition\")<br>\n",
    "\n"
   ]
  },
  {
   "cell_type": "markdown",
   "metadata": {},
   "source": [
    "## <a id=\"Get-to-Know-the-Data\">Part 0. Get to Know the Data<br></a>"
   ]
  },
  {
   "cell_type": "code",
   "execution_count": 1,
   "metadata": {},
   "outputs": [
    {
     "name": "stderr",
     "output_type": "stream",
     "text": [
      "/Users/jamancilla/anaconda3/lib/python3.7/site-packages/statsmodels/tools/_testing.py:19: FutureWarning: pandas.util.testing is deprecated. Use the functions in the public API at pandas.testing instead.\n",
      "  import pandas.util.testing as tm\n"
     ]
    }
   ],
   "source": [
    "# import libraries here; add more as necessary\n",
    "import numpy as np\n",
    "import pandas as pd\n",
    "import matplotlib.pyplot as plt\n",
    "import seaborn as sns\n",
    "\n",
    "from sklearn import preprocessing\n",
    "from sklearn.impute import SimpleImputer\n",
    "from sklearn.decomposition import PCA\n",
    "from sklearn.cluster import KMeans\n",
    "\n",
    "import dsp\n",
    "\n",
    "# magic word for producing visualizations in notebook\n",
    "%matplotlib inline"
   ]
  },
  {
   "cell_type": "markdown",
   "metadata": {},
   "source": [
    "## Part 0: Get to Know the Data\n",
    "\n",
    "There are four data files associated with this project:\n",
    "\n",
    "- `Udacity_AZDIAS_052018.csv`: Demographics data for the general population of Germany; 891 211 persons (rows) x 366 features (columns).\n",
    "- `Udacity_CUSTOMERS_052018.csv`: Demographics data for customers of a mail-order company; 191 652 persons (rows) x 369 features (columns).\n",
    "- `Udacity_MAILOUT_052018_TRAIN.csv`: Demographics data for individuals who were targets of a marketing campaign; 42 982 persons (rows) x 367 (columns).\n",
    "- `Udacity_MAILOUT_052018_TEST.csv`: Demographics data for individuals who were targets of a marketing campaign; 42 833 persons (rows) x 366 (columns).\n",
    "\n",
    "Each row of the demographics files represents a single person, but also includes information outside of individuals, including information about their household, building, and neighborhood. Use the information from the first two files to figure out how customers (\"CUSTOMERS\") are similar to or differ from the general population at large (\"AZDIAS\"), then use your analysis to make predictions on the other two files (\"MAILOUT\"), predicting which recipients are most likely to become a customer for the mail-order company.\n",
    "\n",
    "The \"CUSTOMERS\" file contains three extra columns ('CUSTOMER_GROUP', 'ONLINE_PURCHASE', and 'PRODUCT_GROUP'), which provide broad information about the customers depicted in the file. The original \"MAILOUT\" file included one additional column, \"RESPONSE\", which indicated whether or not each recipient became a customer of the company. For the \"TRAIN\" subset, this column has been retained, but in the \"TEST\" subset it has been removed; it is against that withheld column that your final predictions will be assessed in the Kaggle competition.\n",
    "\n",
    "Otherwise, all of the remaining columns are the same between the three data files. For more information about the columns depicted in the files, you can refer to two Excel spreadsheets provided in the workspace. [One of them](./DIAS Information Levels - Attributes 2017.xlsx) is a top-level list of attributes and descriptions, organized by informational category. [The other](./DIAS Attributes - Values 2017.xlsx) is a detailed mapping of data values for each feature in alphabetical order.\n",
    "\n",
    "In the below cell, we've provided some initial code to load in the first two datasets. Note for all of the `.csv` data files in this project that they're semicolon (`;`) delimited, so an additional argument in the [`read_csv()`](https://pandas.pydata.org/pandas-docs/stable/generated/pandas.read_csv.html) call has been included to read in the data properly. Also, considering the size of the datasets, it may take some time for them to load completely.\n",
    "\n",
    "You'll notice when the data is loaded in that a warning message will immediately pop up. Before you really start digging into the modeling and analysis, you're going to need to perform some cleaning. Take some time to browse the structure of the data and look over the informational spreadsheets to understand the data values. Make some decisions on which features to keep, which features to drop, and if any revisions need to be made on data formats. It'll be a good idea to create a function with pre-processing steps, since you'll need to clean all of the datasets before you work with them."
   ]
  },
  {
   "cell_type": "code",
   "execution_count": 2,
   "metadata": {},
   "outputs": [],
   "source": [
    "# Load feature info\n",
    "feat_info = pd.read_csv('../features.csv')\n",
    "feat_info.set_index('attribute', inplace=True)\n",
    "\n",
    "# Parse missing_or_known string into a list\n",
    "def parse_missing(s):\n",
    "    a = s[1:-1].split(',')\n",
    "    return a\n",
    "\n",
    "feat_info['missing_or_unknown'] = feat_info['missing_or_unknown'].apply(parse_missing)"
   ]
  },
  {
   "cell_type": "code",
   "execution_count": 3,
   "metadata": {},
   "outputs": [
    {
     "name": "stderr",
     "output_type": "stream",
     "text": [
      "/Users/jamancilla/.local/lib/python3.7/site-packages/IPython/core/interactiveshell.py:3063: DtypeWarning: Columns (18,19) have mixed types.Specify dtype option on import or set low_memory=False.\n",
      "  interactivity=interactivity, compiler=compiler, result=result)\n"
     ]
    }
   ],
   "source": [
    "# load in the data\n",
    "azdias = pd.read_csv('../data/Udacity_AZDIAS_052018.csv', sep=';')\n",
    "customers = pd.read_csv('../data/Udacity_CUSTOMERS_052018.csv', sep=';')"
   ]
  },
  {
   "cell_type": "code",
   "execution_count": 4,
   "metadata": {},
   "outputs": [
    {
     "data": {
      "text/plain": [
       "(891221, 366)"
      ]
     },
     "execution_count": 4,
     "metadata": {},
     "output_type": "execute_result"
    }
   ],
   "source": [
    "azdias.shape"
   ]
  },
  {
   "cell_type": "code",
   "execution_count": 5,
   "metadata": {},
   "outputs": [
    {
     "data": {
      "text/plain": [
       "(191652, 369)"
      ]
     },
     "execution_count": 5,
     "metadata": {},
     "output_type": "execute_result"
    }
   ],
   "source": [
    "customers.shape"
   ]
  },
  {
   "cell_type": "code",
   "execution_count": 6,
   "metadata": {},
   "outputs": [
    {
     "data": {
      "text/html": [
       "<div>\n",
       "<style scoped>\n",
       "    .dataframe tbody tr th:only-of-type {\n",
       "        vertical-align: middle;\n",
       "    }\n",
       "\n",
       "    .dataframe tbody tr th {\n",
       "        vertical-align: top;\n",
       "    }\n",
       "\n",
       "    .dataframe thead th {\n",
       "        text-align: right;\n",
       "    }\n",
       "</style>\n",
       "<table border=\"1\" class=\"dataframe\">\n",
       "  <thead>\n",
       "    <tr style=\"text-align: right;\">\n",
       "      <th></th>\n",
       "      <th>information_level</th>\n",
       "      <th>type</th>\n",
       "      <th>missing_or_unknown</th>\n",
       "      <th>Comment</th>\n",
       "    </tr>\n",
       "    <tr>\n",
       "      <th>attribute</th>\n",
       "      <th></th>\n",
       "      <th></th>\n",
       "      <th></th>\n",
       "      <th></th>\n",
       "    </tr>\n",
       "  </thead>\n",
       "  <tbody>\n",
       "    <tr>\n",
       "      <th>AGER_TYP</th>\n",
       "      <td>person</td>\n",
       "      <td>categorical</td>\n",
       "      <td>[-1, 0]</td>\n",
       "      <td>NaN</td>\n",
       "    </tr>\n",
       "    <tr>\n",
       "      <th>ALTER_HH</th>\n",
       "      <td>household</td>\n",
       "      <td>interval</td>\n",
       "      <td>[0]</td>\n",
       "      <td>NaN</td>\n",
       "    </tr>\n",
       "    <tr>\n",
       "      <th>ALTERSKATEGORIE_GROB</th>\n",
       "      <td>person</td>\n",
       "      <td>ordinal</td>\n",
       "      <td>[-1, 0, 9]</td>\n",
       "      <td>NaN</td>\n",
       "    </tr>\n",
       "    <tr>\n",
       "      <th>ANREDE_KZ</th>\n",
       "      <td>person</td>\n",
       "      <td>categorical</td>\n",
       "      <td>[-1, 0]</td>\n",
       "      <td>NaN</td>\n",
       "    </tr>\n",
       "    <tr>\n",
       "      <th>ANZ_HAUSHALTE_AKTIV</th>\n",
       "      <td>building</td>\n",
       "      <td>numeric</td>\n",
       "      <td>[0]</td>\n",
       "      <td>NaN</td>\n",
       "    </tr>\n",
       "  </tbody>\n",
       "</table>\n",
       "</div>"
      ],
      "text/plain": [
       "                     information_level         type missing_or_unknown Comment\n",
       "attribute                                                                     \n",
       "AGER_TYP                        person  categorical            [-1, 0]     NaN\n",
       "ALTER_HH                     household     interval                [0]     NaN\n",
       "ALTERSKATEGORIE_GROB            person      ordinal         [-1, 0, 9]     NaN\n",
       "ANREDE_KZ                       person  categorical            [-1, 0]     NaN\n",
       "ANZ_HAUSHALTE_AKTIV           building      numeric                [0]     NaN"
      ]
     },
     "execution_count": 6,
     "metadata": {},
     "output_type": "execute_result"
    }
   ],
   "source": [
    "feat_info.head()"
   ]
  },
  {
   "cell_type": "markdown",
   "metadata": {},
   "source": [
    "### Check and handle missing values"
   ]
  },
  {
   "cell_type": "code",
   "execution_count": 7,
   "metadata": {},
   "outputs": [],
   "source": [
    "# Check uncoded missing values\n",
    "p_missing = azdias.isnull().mean()"
   ]
  },
  {
   "cell_type": "code",
   "execution_count": 8,
   "metadata": {},
   "outputs": [
    {
     "data": {
      "text/plain": [
       "ALTER_KIND4    0.998648\n",
       "ALTER_KIND3    0.993077\n",
       "ALTER_KIND2    0.966900\n",
       "ALTER_KIND1    0.909048\n",
       "EXTSEL992      0.733996\n",
       "dtype: float64"
      ]
     },
     "execution_count": 8,
     "metadata": {},
     "output_type": "execute_result"
    }
   ],
   "source": [
    "p_missing.sort_values(ascending=False).head()"
   ]
  },
  {
   "cell_type": "code",
   "execution_count": 9,
   "metadata": {
    "scrolled": false
   },
   "outputs": [
    {
     "data": {
      "text/plain": [
       "['D19_TELKO_ONLINE_QUOTE_12',\n",
       " 'CJT_KATALOGNUTZER',\n",
       " 'RT_SCHNAEPPCHEN',\n",
       " 'D19_SOZIALES',\n",
       " 'EINGEFUEGT_AM',\n",
       " 'EINGEZOGENAM_HH_JAHR',\n",
       " 'ALTER_KIND2',\n",
       " 'AKT_DAT_KL',\n",
       " 'STRUKTURTYP',\n",
       " 'RT_UEBERGROESSE',\n",
       " 'VK_DHT4A',\n",
       " 'CJT_TYP_5']"
      ]
     },
     "execution_count": 9,
     "metadata": {},
     "output_type": "execute_result"
    }
   ],
   "source": [
    "# Find the columns not covered by feature info\n",
    "missing_from_feat_info = set(azdias.columns.values).difference(feat_info.index.values)\n",
    "list(missing_from_feat_info)[:12]"
   ]
  },
  {
   "cell_type": "code",
   "execution_count": 10,
   "metadata": {},
   "outputs": [],
   "source": [
    "azdias.drop(list(missing_from_feat_info), axis='columns', inplace=True)"
   ]
  },
  {
   "cell_type": "code",
   "execution_count": 11,
   "metadata": {},
   "outputs": [
    {
     "data": {
      "text/plain": [
       "{'BIP_FLAG',\n",
       " 'GEOSCORE_KLS7',\n",
       " 'HAUSHALTSSTRUKTUR',\n",
       " 'SOHO_FLAG',\n",
       " 'WACHSTUMSGEBIET_NB'}"
      ]
     },
     "execution_count": 11,
     "metadata": {},
     "output_type": "execute_result"
    }
   ],
   "source": [
    "# Find columns not in the dataset\n",
    "missing_azdias = set(feat_info.index.values).difference(azdias.columns.values)\n",
    "missing_azdias"
   ]
  },
  {
   "cell_type": "code",
   "execution_count": 12,
   "metadata": {},
   "outputs": [],
   "source": [
    "# Convert missing values to Nans\n",
    "missing_values = pd.Series(feat_info['missing_or_unknown'].values, index=feat_info.index).to_dict()\n",
    "azdias[azdias.isin(missing_values)] = np.nan"
   ]
  },
  {
   "cell_type": "markdown",
   "metadata": {},
   "source": [
    "#### Missing values by column"
   ]
  },
  {
   "cell_type": "code",
   "execution_count": 13,
   "metadata": {},
   "outputs": [
    {
     "data": {
      "image/png": "[encoded data removed]",
      "text/plain": [
       "<Figure size 432x288 with 1 Axes>"
      ]
     },
     "metadata": {
      "needs_background": "light"
     },
     "output_type": "display_data"
    }
   ],
   "source": [
    "p_missing = azdias.isnull().mean()\n",
    "\n",
    "plt.hist(p_missing, bins=15);"
   ]
  },
  {
   "cell_type": "code",
   "execution_count": 14,
   "metadata": {
    "scrolled": true
   },
   "outputs": [
    {
     "data": {
      "text/plain": [
       "Index(['AGER_TYP', 'ALTER_HH', 'D19_BANKEN_ONLINE_QUOTE_12',\n",
       "       'D19_GESAMT_ONLINE_QUOTE_12', 'D19_KONSUMTYP',\n",
       "       'D19_VERSAND_ONLINE_QUOTE_12', 'GEBURTSJAHR', 'KBA05_BAUMAX',\n",
       "       'KK_KUNDENTYP', 'TITEL_KZ'],\n",
       "      dtype='object')"
      ]
     },
     "execution_count": 14,
     "metadata": {},
     "output_type": "execute_result"
    }
   ],
   "source": [
    "p_threshold = 0.2\n",
    "to_drop = p_missing[p_missing > p_threshold]\n",
    "to_drop.index"
   ]
  },
  {
   "cell_type": "code",
   "execution_count": 15,
   "metadata": {},
   "outputs": [
    {
     "data": {
      "text/plain": [
       "0.2884952217239046"
      ]
     },
     "execution_count": 15,
     "metadata": {},
     "output_type": "execute_result"
    }
   ],
   "source": [
    "p_missing.D19_KONSUMTYP"
   ]
  },
  {
   "cell_type": "code",
   "execution_count": 16,
   "metadata": {},
   "outputs": [],
   "source": [
    "# Drop columns below acceptable threshold of missing values\n",
    "azdias = azdias.drop(to_drop.index, axis='columns')"
   ]
  },
  {
   "cell_type": "code",
   "execution_count": 17,
   "metadata": {
    "scrolled": true
   },
   "outputs": [
    {
     "data": {
      "text/plain": [
       "Index(['ANZ_HAUSHALTE_AKTIV', 'ANZ_HH_TITEL', 'ANZ_KINDER', 'ANZ_PERSONEN',\n",
       "       'ANZ_STATISTISCHE_HAUSHALTE', 'ANZ_TITEL', 'ARBEIT', 'BALLRAUM',\n",
       "       'CAMEO_DEU_2015', 'CAMEO_DEUG_2015',\n",
       "       ...\n",
       "       'SHOPPER_TYP', 'SOHO_KZ', 'UNGLEICHENN_FLAG', 'VERS_TYP',\n",
       "       'W_KEIT_KIND_HH', 'WOHNDAUER_2008', 'WOHNLAGE', 'ZABEOTYP', 'ANREDE_KZ',\n",
       "       'ALTERSKATEGORIE_GROB'],\n",
       "      dtype='object', length=317)"
      ]
     },
     "execution_count": 17,
     "metadata": {},
     "output_type": "execute_result"
    }
   ],
   "source": [
    "azdias.columns"
   ]
  },
  {
   "cell_type": "markdown",
   "metadata": {},
   "source": [
    "#### Missing Values by Row"
   ]
  },
  {
   "cell_type": "code",
   "execution_count": 18,
   "metadata": {},
   "outputs": [],
   "source": [
    "missing_by_row = azdias.isnull().sum(axis=1)"
   ]
  },
  {
   "cell_type": "code",
   "execution_count": 19,
   "metadata": {},
   "outputs": [
    {
     "data": {
      "text/plain": [
       "(array([7.37287e+05, 1.00000e+00, 3.84820e+04, 9.65100e+03, 0.00000e+00,\n",
       "        5.82100e+03, 2.00000e+00, 5.43000e+02, 6.28300e+03, 9.31510e+04]),\n",
       " array([  0. ,  22.7,  45.4,  68.1,  90.8, 113.5, 136.2, 158.9, 181.6,\n",
       "        204.3, 227. ]),\n",
       " <a list of 10 Patch objects>)"
      ]
     },
     "execution_count": 19,
     "metadata": {},
     "output_type": "execute_result"
    },
    {
     "data": {
      "image/png": "[encoded data removed]",
      "text/plain": [
       "<Figure size 432x288 with 1 Axes>"
      ]
     },
     "metadata": {
      "needs_background": "light"
     },
     "output_type": "display_data"
    }
   ],
   "source": [
    "plt.hist(missing_by_row)"
   ]
  },
  {
   "cell_type": "code",
   "execution_count": 20,
   "metadata": {},
   "outputs": [
    {
     "data": {
      "text/plain": [
       "(array([612216.,  10387.,  32065.,  16359.,  13132.,   2775.,  21858.,\n",
       "          9789.,  11137.,   5853.]),\n",
       " array([ 0.,  1.,  2.,  3.,  4.,  5.,  6.,  7.,  8.,  9., 10.]),\n",
       " <a list of 10 Patch objects>)"
      ]
     },
     "execution_count": 20,
     "metadata": {},
     "output_type": "execute_result"
    },
    {
     "data": {
      "image/png": "[encoded data removed]",
      "text/plain": [
       "<Figure size 432x288 with 1 Axes>"
      ]
     },
     "metadata": {
      "needs_background": "light"
     },
     "output_type": "display_data"
    }
   ],
   "source": [
    "plt.hist(missing_by_row, range=(0,10))"
   ]
  },
  {
   "cell_type": "code",
   "execution_count": 21,
   "metadata": {},
   "outputs": [
    {
     "data": {
      "text/plain": [
       "0     612216\n",
       "1      10387\n",
       "2      32065\n",
       "3      16359\n",
       "4      13132\n",
       "5       2775\n",
       "6      21858\n",
       "7       9789\n",
       "8      11137\n",
       "9        761\n",
       "10      5092\n",
       "dtype: int64"
      ]
     },
     "execution_count": 21,
     "metadata": {},
     "output_type": "execute_result"
    }
   ],
   "source": [
    "missing_by_row.value_counts().sort_index().head(11)"
   ]
  },
  {
   "cell_type": "code",
   "execution_count": 22,
   "metadata": {},
   "outputs": [
    {
     "name": "stdout",
     "output_type": "stream",
     "text": [
      "735571\n",
      "155650\n"
     ]
    }
   ],
   "source": [
    "# Only take rows at or below threshold\n",
    "threshold = 10\n",
    "\n",
    "azdias_below = azdias[missing_by_row <= threshold]\n",
    "print(azdias_below.shape[0])\n",
    "\n",
    "azdias_above = azdias[missing_by_row > threshold]\n",
    "print(azdias_above.shape[0])"
   ]
  },
  {
   "cell_type": "code",
   "execution_count": 23,
   "metadata": {},
   "outputs": [
    {
     "name": "stdout",
     "output_type": "stream",
     "text": [
      "0.17464803903857742\n"
     ]
    }
   ],
   "source": [
    "print(azdias_above.shape[0]/azdias.shape[0])"
   ]
  },
  {
   "cell_type": "code",
   "execution_count": 24,
   "metadata": {},
   "outputs": [],
   "source": [
    "def do_comparison_plots(subset1, subset2, subtitle1, subtitle2, column_name):\n",
    "#    f, (ax1, ax2) = plt.subplots(1, 2, sharey='row', figsize=(10, 4))\n",
    "    f, (ax1, ax2) = plt.subplots(1, 2, figsize=(10, 4))\n",
    "\n",
    "    sns.countplot(subset1[column_name], ax=ax1)\n",
    "    sns.countplot(subset2[column_name], ax=ax2)\n",
    "    \n",
    "    ax1.set_title(subtitle1)\n",
    "    ax2.set_title(subtitle2)\n",
    "    \n",
    "    plt.subplots_adjust(wspace=.25)\n",
    "    plt.show()"
   ]
  },
  {
   "cell_type": "code",
   "execution_count": 25,
   "metadata": {
    "scrolled": true
   },
   "outputs": [
    {
     "name": "stdout",
     "output_type": "stream",
     "text": [
      "Threshold =  10\n"
     ]
    },
    {
     "data": {
      "image/png": "[encoded data removed]",
      "text/plain": [
       "<Figure size 720x288 with 2 Axes>"
      ]
     },
     "metadata": {
      "needs_background": "light"
     },
     "output_type": "display_data"
    },
    {
     "data": {
      "image/png": "[encoded data removed]",
      "text/plain": [
       "<Figure size 720x288 with 2 Axes>"
      ]
     },
     "metadata": {
      "needs_background": "light"
     },
     "output_type": "display_data"
    },
    {
     "data": {
      "image/png": "[encoded data removed]",
      "text/plain": [
       "<Figure size 720x288 with 2 Axes>"
      ]
     },
     "metadata": {
      "needs_background": "light"
     },
     "output_type": "display_data"
    },
    {
     "data": {
      "image/png": "[encoded data removed]",
      "text/plain": [
       "<Figure size 720x288 with 2 Axes>"
      ]
     },
     "metadata": {
      "needs_background": "light"
     },
     "output_type": "display_data"
    },
    {
     "data": {
      "image/png": "[encoded data removed]",
      "text/plain": [
       "<Figure size 720x288 with 2 Axes>"
      ]
     },
     "metadata": {
      "needs_background": "light"
     },
     "output_type": "display_data"
    }
   ],
   "source": [
    "print(\"Threshold = \", threshold)\n",
    "for col in ['ANREDE_KZ', 'FINANZTYP', 'ALTERSKATEGORIE_GROB', 'NATIONALITAET_KZ', 'SHOPPER_TYP']:\n",
    "    do_comparison_plots(azdias_below, azdias_above, 'Below', 'Above', col)"
   ]
  },
  {
   "cell_type": "markdown",
   "metadata": {},
   "source": [
    "At a threshold of 0 (no missing values), 31% of the data is dropped and there are differences in FINANZTYP (finance type), ALTERSKATEGORIE_GROB (age category), and SHOPPER_TYPE. At a threshold of 10, 17.5% is dropped. And at 25, 17% is dropped.\n",
    "<p>\n",
    "Increasing the threshold does not remove the differences in the above features."
   ]
  },
  {
   "cell_type": "code",
   "execution_count": 26,
   "metadata": {},
   "outputs": [],
   "source": [
    "azdias = azdias_below"
   ]
  },
  {
   "cell_type": "markdown",
   "metadata": {},
   "source": [
    "#### Re-Encode Categorical Features"
   ]
  },
  {
   "cell_type": "code",
   "execution_count": 27,
   "metadata": {},
   "outputs": [
    {
     "data": {
      "text/plain": [
       "ordinal        270\n",
       "categorical     42\n",
       "numeric          9\n",
       "binary           6\n",
       "mixed            4\n",
       "interval         1\n",
       "Name: type, dtype: int64"
      ]
     },
     "execution_count": 27,
     "metadata": {},
     "output_type": "execute_result"
    }
   ],
   "source": [
    "feat_info.type.value_counts()"
   ]
  },
  {
   "cell_type": "code",
   "execution_count": 28,
   "metadata": {},
   "outputs": [
    {
     "name": "stdout",
     "output_type": "stream",
     "text": [
      "Number of orig. categorical variables:  42\n"
     ]
    }
   ],
   "source": [
    "# Assess categorical variables: which are binary, which are multi-level, and\n",
    "# which one needs to be re-encoded?\n",
    "\n",
    "categorical = feat_info[feat_info['type'] == 'categorical']\n",
    "print('Number of orig. categorical variables: ', len(categorical))"
   ]
  },
  {
   "cell_type": "code",
   "execution_count": 29,
   "metadata": {},
   "outputs": [
    {
     "name": "stdout",
     "output_type": "stream",
     "text": [
      "Number of categorical variables currently: 35\n",
      "\n",
      "ANREDE_KZ [2 1]\n",
      "CAMEO_DEU_2015 ['8A' '4C' '2A' '6B' '8C' '4A' '2D' '1A' '1E' '9D' '7A' '5D' '9E' '5C'\n",
      " '9B' '1B' '8B' '3D' nan '4E' '4B' '3C' '5A' '7B' '9A' '6E' '6D' '2C' '7C'\n",
      " '9C' '7D' '5E' '1D' '8D' '6C' '6A' '5B' '4D' '3A' '2B' '7E' '3B' '6F'\n",
      " '5F' '1C']\n",
      "CAMEO_DEUG_2015 [8.0 4.0 2.0 6.0 1.0 9.0 7.0 5.0 3.0 nan '3' '7' '2' '4' '9' '6' '8' '5'\n",
      " '1']\n",
      "CJT_GESAMTTYP [ 5.  3.  2.  4.  1.  6. nan]\n",
      "D19_BANKEN_DATUM [10  5  8  9  7  4  6  1  2  3]\n",
      "D19_BANKEN_OFFLINE_DATUM [10  9  8  2  5  4  1  6  7  3]\n",
      "D19_BANKEN_ONLINE_DATUM [10  5  8  9  4  7  6  1  2  3]\n",
      "D19_GESAMT_DATUM [10  1  3  5  9  7  6  8  2  4]\n",
      "D19_GESAMT_OFFLINE_DATUM [10  6  8  9  5  2  4  1  7  3]\n",
      "D19_GESAMT_ONLINE_DATUM [10  1  3  5  9  7  6  8  2  4]\n",
      "D19_TELKO_DATUM [10  6  9  8  5  7  4  2  1  3]\n",
      "D19_TELKO_OFFLINE_DATUM [10  8  5  6  9  7  4  3  2  1]\n",
      "D19_TELKO_ONLINE_DATUM [10  9  7  8  6  5  4  1  2  3]\n",
      "D19_VERSAND_DATUM [10  1  5  9  8  6  3  2  4  7]\n",
      "D19_VERSAND_OFFLINE_DATUM [10  9  6  8  5  1  4  7  2  3]\n",
      "D19_VERSAND_ONLINE_DATUM [10  1  5  9  8  6  3  2  4  7]\n",
      "D19_VERSI_DATUM [10  2  8  9  7  5  6  1  4  3]\n",
      "D19_VERSI_OFFLINE_DATUM [10  7  9  6  4  8  5  2  3  1]\n",
      "D19_VERSI_ONLINE_DATUM [10  8  9  5  6  7  4  1  2  3]\n",
      "FINANZTYP [1 6 5 2 4 3]\n",
      "GEBAEUDETYP [8. 1. 3. 2. 6. 4. 5.]\n",
      "GFK_URLAUBERTYP [10.  1.  5. 12.  9.  3.  8. 11.  4.  7.  2.  6. nan]\n",
      "GREEN_AVANTGARDE [0 1]\n",
      "LP_FAMILIE_FEIN [ 5.  1. nan 10.  2.  7. 11.  8.  4.  6.  9.  3.]\n",
      "LP_FAMILIE_GROB [ 3.  1. nan  5.  2.  4.]\n",
      "LP_STATUS_FEIN [ 2.  3.  9.  4.  1. 10.  8.  5.  6.  7. nan]\n",
      "LP_STATUS_GROB [ 1.  2.  4.  5.  3. nan]\n",
      "NATIONALITAET_KZ [ 1.  3.  2. nan]\n",
      "OST_WEST_KZ ['W' 'O']\n",
      "PLZ8_BAUMAX [ 1.  2.  4.  5.  3. nan]\n",
      "SHOPPER_TYP [ 3.  2.  1.  0. nan]\n",
      "SOHO_KZ [1. 0.]\n",
      "VERS_TYP [ 2.  1. nan]\n",
      "WOHNLAGE [ 4.  2.  7.  3.  5.  1.  8. nan]\n",
      "ZABEOTYP [5 3 4 1 6 2]\n"
     ]
    }
   ],
   "source": [
    "categorical = categorical[categorical.index.isin(azdias.columns)]\n",
    "print('Number of categorical variables currently: {}\\n'.format(len(categorical)))\n",
    "\n",
    "for col in categorical.index:\n",
    "    print(col, azdias[col].unique())"
   ]
  },
  {
   "cell_type": "code",
   "execution_count": 30,
   "metadata": {},
   "outputs": [
    {
     "data": {
      "text/plain": [
       "array(['D19_BANKEN_DATUM', 'D19_BANKEN_OFFLINE_DATUM',\n",
       "       'D19_BANKEN_ONLINE_DATUM', 'D19_GESAMT_DATUM',\n",
       "       'D19_GESAMT_OFFLINE_DATUM', 'D19_GESAMT_ONLINE_DATUM',\n",
       "       'D19_TELKO_DATUM', 'D19_TELKO_OFFLINE_DATUM',\n",
       "       'D19_TELKO_ONLINE_DATUM', 'D19_VERSAND_DATUM',\n",
       "       'D19_VERSAND_OFFLINE_DATUM', 'D19_VERSAND_ONLINE_DATUM',\n",
       "       'D19_VERSI_DATUM', 'D19_VERSI_OFFLINE_DATUM',\n",
       "       'D19_VERSI_ONLINE_DATUM'], dtype=object)"
      ]
     },
     "execution_count": 30,
     "metadata": {},
     "output_type": "execute_result"
    }
   ],
   "source": [
    "# recode 10's to 0 for D19 columns\n",
    "recode = categorical[categorical.index.str.startswith('D19_')].index.values\n",
    "recode"
   ]
  },
  {
   "cell_type": "code",
   "execution_count": 31,
   "metadata": {},
   "outputs": [],
   "source": [
    "azdias[recode] = azdias[recode].replace(10, 0)"
   ]
  },
  {
   "cell_type": "code",
   "execution_count": 32,
   "metadata": {
    "scrolled": true
   },
   "outputs": [
    {
     "data": {
      "text/plain": [
       "0    717698\n",
       "8      5904\n",
       "9      4671\n",
       "5      3913\n",
       "2      1864\n",
       "6       470\n",
       "1       407\n",
       "7       304\n",
       "4       280\n",
       "3        60\n",
       "Name: D19_BANKEN_OFFLINE_DATUM, dtype: int64"
      ]
     },
     "execution_count": 32,
     "metadata": {},
     "output_type": "execute_result"
    }
   ],
   "source": [
    "azdias.D19_BANKEN_OFFLINE_DATUM.value_counts()"
   ]
  },
  {
   "cell_type": "code",
   "execution_count": 33,
   "metadata": {},
   "outputs": [],
   "source": [
    "categorical.drop(recode, axis='rows', inplace=True)"
   ]
  },
  {
   "cell_type": "code",
   "execution_count": 34,
   "metadata": {},
   "outputs": [],
   "source": [
    "# Drop all fine scale variables in favor of the rough scale version\n",
    "drop = ['CAMEO_DEU_2015', 'LP_FAMILIE_FEIN', 'LP_STATUS_FEIN']\n",
    "azdias.drop(drop, axis=1, inplace=True)"
   ]
  },
  {
   "cell_type": "code",
   "execution_count": 35,
   "metadata": {},
   "outputs": [],
   "source": [
    "categorical.drop(drop, axis='rows', inplace=True)"
   ]
  },
  {
   "cell_type": "code",
   "execution_count": 36,
   "metadata": {},
   "outputs": [
    {
     "data": {
      "text/plain": [
       "array([ 8.,  4.,  2.,  6.,  1.,  9.,  7.,  5.,  3., nan])"
      ]
     },
     "execution_count": 36,
     "metadata": {},
     "output_type": "execute_result"
    }
   ],
   "source": [
    "# convert CAMEO_DEUG_2015 from string to float\n",
    "azdias['CAMEO_DEUG_2015'] = azdias['CAMEO_DEUG_2015'].astype(float)\n",
    "azdias['CAMEO_DEUG_2015'].unique()"
   ]
  },
  {
   "cell_type": "code",
   "execution_count": 37,
   "metadata": {
    "scrolled": true
   },
   "outputs": [
    {
     "name": "stdout",
     "output_type": "stream",
     "text": [
      "ANREDE_KZ [2 1]\n",
      "CAMEO_DEUG_2015 [ 8.  4.  2.  6.  1.  9.  7.  5.  3. nan]\n",
      "CJT_GESAMTTYP [ 5.  3.  2.  4.  1.  6. nan]\n",
      "FINANZTYP [1 6 5 2 4 3]\n",
      "GEBAEUDETYP [8. 1. 3. 2. 6. 4. 5.]\n",
      "GFK_URLAUBERTYP [10.  1.  5. 12.  9.  3.  8. 11.  4.  7.  2.  6. nan]\n",
      "GREEN_AVANTGARDE [0 1]\n",
      "LP_FAMILIE_GROB [ 3.  1. nan  5.  2.  4.]\n",
      "LP_STATUS_GROB [ 1.  2.  4.  5.  3. nan]\n",
      "NATIONALITAET_KZ [ 1.  3.  2. nan]\n",
      "OST_WEST_KZ ['W' 'O']\n",
      "PLZ8_BAUMAX [ 1.  2.  4.  5.  3. nan]\n",
      "SHOPPER_TYP [ 3.  2.  1.  0. nan]\n",
      "SOHO_KZ [1. 0.]\n",
      "VERS_TYP [ 2.  1. nan]\n",
      "WOHNLAGE [ 4.  2.  7.  3.  5.  1.  8. nan]\n",
      "ZABEOTYP [5 3 4 1 6 2]\n"
     ]
    }
   ],
   "source": [
    "for col in categorical.index:\n",
    "    print(col, azdias[col].unique())"
   ]
  },
  {
   "cell_type": "markdown",
   "metadata": {},
   "source": [
    "ANREDE_KZ, GREEN_AVANTGARDE, SOHO_KZ, and VERS_TYP are binary and numeric.\n",
    "\n",
    "OST_WEST_KZ is binary but will need dummy variables."
   ]
  },
  {
   "cell_type": "code",
   "execution_count": 38,
   "metadata": {},
   "outputs": [],
   "source": [
    "binary = set(['ANREDE_KZ', 'GREEN_AVANTGARDE', 'SOHO_KZ', 'VERS_TYP'])\n",
    "categorical.drop(binary, axis='rows', inplace=True)"
   ]
  },
  {
   "cell_type": "code",
   "execution_count": 39,
   "metadata": {},
   "outputs": [
    {
     "data": {
      "text/html": [
       "<div>\n",
       "<style scoped>\n",
       "    .dataframe tbody tr th:only-of-type {\n",
       "        vertical-align: middle;\n",
       "    }\n",
       "\n",
       "    .dataframe tbody tr th {\n",
       "        vertical-align: top;\n",
       "    }\n",
       "\n",
       "    .dataframe thead th {\n",
       "        text-align: right;\n",
       "    }\n",
       "</style>\n",
       "<table border=\"1\" class=\"dataframe\">\n",
       "  <thead>\n",
       "    <tr style=\"text-align: right;\">\n",
       "      <th></th>\n",
       "      <th>O</th>\n",
       "      <th>W</th>\n",
       "    </tr>\n",
       "  </thead>\n",
       "  <tbody>\n",
       "    <tr>\n",
       "      <th>1</th>\n",
       "      <td>0</td>\n",
       "      <td>1</td>\n",
       "    </tr>\n",
       "    <tr>\n",
       "      <th>2</th>\n",
       "      <td>0</td>\n",
       "      <td>1</td>\n",
       "    </tr>\n",
       "    <tr>\n",
       "      <th>3</th>\n",
       "      <td>0</td>\n",
       "      <td>1</td>\n",
       "    </tr>\n",
       "    <tr>\n",
       "      <th>4</th>\n",
       "      <td>0</td>\n",
       "      <td>1</td>\n",
       "    </tr>\n",
       "    <tr>\n",
       "      <th>5</th>\n",
       "      <td>0</td>\n",
       "      <td>1</td>\n",
       "    </tr>\n",
       "  </tbody>\n",
       "</table>\n",
       "</div>"
      ],
      "text/plain": [
       "   O  W\n",
       "1  0  1\n",
       "2  0  1\n",
       "3  0  1\n",
       "4  0  1\n",
       "5  0  1"
      ]
     },
     "execution_count": 39,
     "metadata": {},
     "output_type": "execute_result"
    }
   ],
   "source": [
    "# Re-encode categorical variable(s) to be kept in the analysis\n",
    "to_recode = 'OST_WEST_KZ'\n",
    "recoded = pd.get_dummies(azdias[to_recode])\n",
    "recoded.head()"
   ]
  },
  {
   "cell_type": "code",
   "execution_count": 40,
   "metadata": {},
   "outputs": [
    {
     "name": "stdout",
     "output_type": "stream",
     "text": [
      "315\n"
     ]
    }
   ],
   "source": [
    "# drop the original categorical variables\n",
    "azdias.drop(to_recode, axis=1, inplace=True)\n",
    "\n",
    "# add the re-encoded one\n",
    "azdias = pd.concat([azdias, recoded], axis=1)\n",
    "\n",
    "print(azdias.columns.size)"
   ]
  },
  {
   "cell_type": "markdown",
   "metadata": {},
   "source": [
    "#### Engineer Mixed-Type Features"
   ]
  },
  {
   "cell_type": "code",
   "execution_count": 41,
   "metadata": {},
   "outputs": [
    {
     "data": {
      "text/html": [
       "<div>\n",
       "<style scoped>\n",
       "    .dataframe tbody tr th:only-of-type {\n",
       "        vertical-align: middle;\n",
       "    }\n",
       "\n",
       "    .dataframe tbody tr th {\n",
       "        vertical-align: top;\n",
       "    }\n",
       "\n",
       "    .dataframe thead th {\n",
       "        text-align: right;\n",
       "    }\n",
       "</style>\n",
       "<table border=\"1\" class=\"dataframe\">\n",
       "  <thead>\n",
       "    <tr style=\"text-align: right;\">\n",
       "      <th></th>\n",
       "      <th>information_level</th>\n",
       "      <th>type</th>\n",
       "      <th>missing_or_unknown</th>\n",
       "      <th>Comment</th>\n",
       "    </tr>\n",
       "    <tr>\n",
       "      <th>attribute</th>\n",
       "      <th></th>\n",
       "      <th></th>\n",
       "      <th></th>\n",
       "      <th></th>\n",
       "    </tr>\n",
       "  </thead>\n",
       "  <tbody>\n",
       "    <tr>\n",
       "      <th>CAMEO_INTL_2015</th>\n",
       "      <td>microcell_rr4</td>\n",
       "      <td>mixed</td>\n",
       "      <td>[-1, XX]</td>\n",
       "      <td>NaN</td>\n",
       "    </tr>\n",
       "    <tr>\n",
       "      <th>LP_LEBENSPHASE_FEIN</th>\n",
       "      <td>person</td>\n",
       "      <td>mixed</td>\n",
       "      <td>[0]</td>\n",
       "      <td>NaN</td>\n",
       "    </tr>\n",
       "    <tr>\n",
       "      <th>LP_LEBENSPHASE_GROB</th>\n",
       "      <td>person</td>\n",
       "      <td>mixed</td>\n",
       "      <td>[0]</td>\n",
       "      <td>NaN</td>\n",
       "    </tr>\n",
       "    <tr>\n",
       "      <th>PRAEGENDE_JUGENDJAHRE</th>\n",
       "      <td>person</td>\n",
       "      <td>mixed</td>\n",
       "      <td>[-1, 0]</td>\n",
       "      <td>NaN</td>\n",
       "    </tr>\n",
       "  </tbody>\n",
       "</table>\n",
       "</div>"
      ],
      "text/plain": [
       "                      information_level   type missing_or_unknown Comment\n",
       "attribute                                                                \n",
       "CAMEO_INTL_2015           microcell_rr4  mixed           [-1, XX]     NaN\n",
       "LP_LEBENSPHASE_FEIN              person  mixed                [0]     NaN\n",
       "LP_LEBENSPHASE_GROB              person  mixed                [0]     NaN\n",
       "PRAEGENDE_JUGENDJAHRE            person  mixed            [-1, 0]     NaN"
      ]
     },
     "execution_count": 41,
     "metadata": {},
     "output_type": "execute_result"
    }
   ],
   "source": [
    "feat_info[feat_info['type'] == 'mixed']"
   ]
  },
  {
   "cell_type": "code",
   "execution_count": 42,
   "metadata": {},
   "outputs": [
    {
     "name": "stdout",
     "output_type": "stream",
     "text": [
      "1    14.0\n",
      "2    15.0\n",
      "3     8.0\n",
      "4     8.0\n",
      "5     3.0\n",
      "Name: PRAEGENDE_JUGENDJAHRE, dtype: float64\n",
      "1    90.0\n",
      "2    90.0\n",
      "3    70.0\n",
      "4    70.0\n",
      "5    50.0\n",
      "Name: decade, dtype: float64\n",
      "1    0.0\n",
      "2    1.0\n",
      "3    0.0\n",
      "4    0.0\n",
      "5    0.0\n",
      "Name: movement, dtype: float64\n"
     ]
    }
   ],
   "source": [
    "# Investigate \"PRAEGENDE_JUGENDJAHRE\" and engineer two new variables.\n",
    "\n",
    "print(azdias['PRAEGENDE_JUGENDJAHRE'].head())\n",
    "\n",
    "# Create decade variable\n",
    "to_replace = {1:40, 2:40, 3:50, 4:50, 5:60, 6:60, 7:60, 8:70, 9:70, 10:80, 11:80, 12:80, 13:80, 14:90, 15:90}\n",
    "azdias['decade'] = azdias['PRAEGENDE_JUGENDJAHRE'].replace(to_replace)\n",
    "print(azdias['decade'].head())\n",
    "\n",
    "# Create movement variable\n",
    "to_replace = {1:0, 2:1, 3:0, 4:1, 5:0, 6:1, 7:1, 8:0, 9:1, 10:0, 11:1, 12:0, 13:1, 14:0, 15:1}\n",
    "azdias['movement'] = azdias['PRAEGENDE_JUGENDJAHRE'].replace(to_replace)\n",
    "print(azdias['movement'].head())\n",
    "\n",
    "azdias.drop('PRAEGENDE_JUGENDJAHRE', axis=1, inplace=True)"
   ]
  },
  {
   "cell_type": "code",
   "execution_count": 43,
   "metadata": {},
   "outputs": [
    {
     "data": {
      "text/plain": [
       "1    51\n",
       "2    24\n",
       "3    12\n",
       "4    43\n",
       "5    54\n",
       "Name: CAMEO_INTL_2015, dtype: object"
      ]
     },
     "execution_count": 43,
     "metadata": {},
     "output_type": "execute_result"
    }
   ],
   "source": [
    "# Investigate \"CAMEO_INTL_2015\" and engineer two new variables.\n",
    "\n",
    "azdias['CAMEO_INTL_2015'].head()"
   ]
  },
  {
   "cell_type": "code",
   "execution_count": 44,
   "metadata": {},
   "outputs": [
    {
     "name": "stdout",
     "output_type": "stream",
     "text": [
      "1    5\n",
      "2    2\n",
      "3    1\n",
      "4    4\n",
      "5    5\n",
      "Name: wealth, dtype: object\n",
      "1    1\n",
      "2    4\n",
      "3    2\n",
      "4    3\n",
      "5    4\n",
      "Name: life_stage, dtype: object\n"
     ]
    }
   ],
   "source": [
    "# Create wealth variable\n",
    "azdias['wealth'] = azdias.CAMEO_INTL_2015[azdias.CAMEO_INTL_2015.notnull()].map(lambda x: str(x)[0])\n",
    "print(azdias['wealth'].head())\n",
    "\n",
    "#life stage\n",
    "azdias['life_stage'] = azdias.CAMEO_INTL_2015[azdias.CAMEO_INTL_2015.notnull()].map(lambda x: str(x)[1])\n",
    "print(azdias['life_stage'].head())\n",
    "\n",
    "azdias.drop('CAMEO_INTL_2015', axis=1, inplace=True)"
   ]
  },
  {
   "cell_type": "code",
   "execution_count": 45,
   "metadata": {},
   "outputs": [],
   "source": [
    "azdias.drop(['LP_LEBENSPHASE_GROB', 'LP_LEBENSPHASE_FEIN'], axis=1, inplace=True)"
   ]
  },
  {
   "cell_type": "markdown",
   "metadata": {},
   "source": [
    "There are 4 mixed-value features.\n",
    "\n",
    "Two were kept, PRAEGENDE_JUGENDJAHRE and CAMEO_INTL_2015.\n",
    "- PRAEGENDE_JUGENDJAHRE was split into decade and movement. The resulting variables help fill in information that we didn't have. GEBURTSJAHR was dropped because 44% of the data was missing.\n",
    "- CAMEO_INTL_2015 was split into wealth and life stage. Note: wealth categories ranges from 1 to 5 with 1 denoting wealthy and 5 denoting poorer.\n",
    "\n",
    "Two features were dropped since the information already exists in other features:\n",
    "- LP_LEBENSPHASE_FEIN and LP_LEBENSPHASE_FEIN represent combined data that is already in the dataset (LP_FAMILIE_X and LP_STATUS_X)"
   ]
  },
  {
   "cell_type": "markdown",
   "metadata": {},
   "source": [
    "#### Clean data function"
   ]
  },
  {
   "cell_type": "code",
   "execution_count": 46,
   "metadata": {},
   "outputs": [
    {
     "name": "stderr",
     "output_type": "stream",
     "text": [
      "/Users/jamancilla/.local/lib/python3.7/site-packages/IPython/core/interactiveshell.py:3063: DtypeWarning: Columns (18,19) have mixed types.Specify dtype option on import or set low_memory=False.\n",
      "  interactivity=interactivity, compiler=compiler, result=result)\n"
     ]
    },
    {
     "name": "stdout",
     "output_type": "stream",
     "text": [
      "(891221, 366)\n"
     ]
    }
   ],
   "source": [
    "# Use data cleaning function that does all of the above\n",
    "azdias = pd.read_csv('../data/Udacity_AZDIAS_052018.csv', sep=';')\n",
    "print(azdias.shape)\n",
    "\n",
    "azdias_clean, azdias_dropped = clean_data(azdias, feat_info, row_threshold=10)"
   ]
  },
  {
   "cell_type": "code",
   "execution_count": 47,
   "metadata": {},
   "outputs": [
    {
     "data": {
      "text/html": [
       "<div>\n",
       "<style scoped>\n",
       "    .dataframe tbody tr th:only-of-type {\n",
       "        vertical-align: middle;\n",
       "    }\n",
       "\n",
       "    .dataframe tbody tr th {\n",
       "        vertical-align: top;\n",
       "    }\n",
       "\n",
       "    .dataframe thead th {\n",
       "        text-align: right;\n",
       "    }\n",
       "</style>\n",
       "<table border=\"1\" class=\"dataframe\">\n",
       "  <thead>\n",
       "    <tr style=\"text-align: right;\">\n",
       "      <th></th>\n",
       "      <th>ANZ_HAUSHALTE_AKTIV</th>\n",
       "      <th>ANZ_HH_TITEL</th>\n",
       "      <th>ANZ_KINDER</th>\n",
       "      <th>ANZ_PERSONEN</th>\n",
       "      <th>ANZ_STATISTISCHE_HAUSHALTE</th>\n",
       "      <th>ANZ_TITEL</th>\n",
       "      <th>ARBEIT</th>\n",
       "      <th>BALLRAUM</th>\n",
       "      <th>CAMEO_DEUG_2015</th>\n",
       "      <th>CJT_GESAMTTYP</th>\n",
       "      <th>...</th>\n",
       "      <th>WOHNLAGE</th>\n",
       "      <th>ZABEOTYP</th>\n",
       "      <th>ANREDE_KZ</th>\n",
       "      <th>ALTERSKATEGORIE_GROB</th>\n",
       "      <th>O</th>\n",
       "      <th>W</th>\n",
       "      <th>decade</th>\n",
       "      <th>movement</th>\n",
       "      <th>wealth</th>\n",
       "      <th>life_stage</th>\n",
       "    </tr>\n",
       "  </thead>\n",
       "  <tbody>\n",
       "    <tr>\n",
       "      <th>1</th>\n",
       "      <td>11.0</td>\n",
       "      <td>0.0</td>\n",
       "      <td>0.0</td>\n",
       "      <td>2.0</td>\n",
       "      <td>12.0</td>\n",
       "      <td>0.0</td>\n",
       "      <td>3.0</td>\n",
       "      <td>6.0</td>\n",
       "      <td>8.0</td>\n",
       "      <td>5.0</td>\n",
       "      <td>...</td>\n",
       "      <td>4.0</td>\n",
       "      <td>5</td>\n",
       "      <td>2</td>\n",
       "      <td>1.0</td>\n",
       "      <td>0</td>\n",
       "      <td>1</td>\n",
       "      <td>90.0</td>\n",
       "      <td>0.0</td>\n",
       "      <td>5</td>\n",
       "      <td>1</td>\n",
       "    </tr>\n",
       "    <tr>\n",
       "      <th>2</th>\n",
       "      <td>10.0</td>\n",
       "      <td>0.0</td>\n",
       "      <td>0.0</td>\n",
       "      <td>1.0</td>\n",
       "      <td>7.0</td>\n",
       "      <td>0.0</td>\n",
       "      <td>3.0</td>\n",
       "      <td>2.0</td>\n",
       "      <td>4.0</td>\n",
       "      <td>3.0</td>\n",
       "      <td>...</td>\n",
       "      <td>2.0</td>\n",
       "      <td>5</td>\n",
       "      <td>2</td>\n",
       "      <td>3.0</td>\n",
       "      <td>0</td>\n",
       "      <td>1</td>\n",
       "      <td>90.0</td>\n",
       "      <td>1.0</td>\n",
       "      <td>2</td>\n",
       "      <td>4</td>\n",
       "    </tr>\n",
       "    <tr>\n",
       "      <th>3</th>\n",
       "      <td>1.0</td>\n",
       "      <td>0.0</td>\n",
       "      <td>0.0</td>\n",
       "      <td>0.0</td>\n",
       "      <td>2.0</td>\n",
       "      <td>0.0</td>\n",
       "      <td>2.0</td>\n",
       "      <td>4.0</td>\n",
       "      <td>2.0</td>\n",
       "      <td>2.0</td>\n",
       "      <td>...</td>\n",
       "      <td>7.0</td>\n",
       "      <td>3</td>\n",
       "      <td>2</td>\n",
       "      <td>4.0</td>\n",
       "      <td>0</td>\n",
       "      <td>1</td>\n",
       "      <td>70.0</td>\n",
       "      <td>0.0</td>\n",
       "      <td>1</td>\n",
       "      <td>2</td>\n",
       "    </tr>\n",
       "    <tr>\n",
       "      <th>4</th>\n",
       "      <td>3.0</td>\n",
       "      <td>0.0</td>\n",
       "      <td>0.0</td>\n",
       "      <td>4.0</td>\n",
       "      <td>3.0</td>\n",
       "      <td>0.0</td>\n",
       "      <td>4.0</td>\n",
       "      <td>2.0</td>\n",
       "      <td>6.0</td>\n",
       "      <td>5.0</td>\n",
       "      <td>...</td>\n",
       "      <td>3.0</td>\n",
       "      <td>4</td>\n",
       "      <td>1</td>\n",
       "      <td>3.0</td>\n",
       "      <td>0</td>\n",
       "      <td>1</td>\n",
       "      <td>70.0</td>\n",
       "      <td>0.0</td>\n",
       "      <td>4</td>\n",
       "      <td>3</td>\n",
       "    </tr>\n",
       "    <tr>\n",
       "      <th>5</th>\n",
       "      <td>5.0</td>\n",
       "      <td>0.0</td>\n",
       "      <td>0.0</td>\n",
       "      <td>1.0</td>\n",
       "      <td>2.0</td>\n",
       "      <td>0.0</td>\n",
       "      <td>2.0</td>\n",
       "      <td>6.0</td>\n",
       "      <td>8.0</td>\n",
       "      <td>2.0</td>\n",
       "      <td>...</td>\n",
       "      <td>7.0</td>\n",
       "      <td>4</td>\n",
       "      <td>2</td>\n",
       "      <td>1.0</td>\n",
       "      <td>0</td>\n",
       "      <td>1</td>\n",
       "      <td>50.0</td>\n",
       "      <td>0.0</td>\n",
       "      <td>5</td>\n",
       "      <td>4</td>\n",
       "    </tr>\n",
       "  </tbody>\n",
       "</table>\n",
       "<p>5 rows × 135 columns</p>\n",
       "</div>"
      ],
      "text/plain": [
       "   ANZ_HAUSHALTE_AKTIV  ANZ_HH_TITEL  ANZ_KINDER  ANZ_PERSONEN  \\\n",
       "1                 11.0           0.0         0.0           2.0   \n",
       "2                 10.0           0.0         0.0           1.0   \n",
       "3                  1.0           0.0         0.0           0.0   \n",
       "4                  3.0           0.0         0.0           4.0   \n",
       "5                  5.0           0.0         0.0           1.0   \n",
       "\n",
       "   ANZ_STATISTISCHE_HAUSHALTE  ANZ_TITEL  ARBEIT  BALLRAUM  CAMEO_DEUG_2015  \\\n",
       "1                        12.0        0.0     3.0       6.0              8.0   \n",
       "2                         7.0        0.0     3.0       2.0              4.0   \n",
       "3                         2.0        0.0     2.0       4.0              2.0   \n",
       "4                         3.0        0.0     4.0       2.0              6.0   \n",
       "5                         2.0        0.0     2.0       6.0              8.0   \n",
       "\n",
       "   CJT_GESAMTTYP  ...  WOHNLAGE  ZABEOTYP  ANREDE_KZ  ALTERSKATEGORIE_GROB  O  \\\n",
       "1            5.0  ...       4.0         5          2                   1.0  0   \n",
       "2            3.0  ...       2.0         5          2                   3.0  0   \n",
       "3            2.0  ...       7.0         3          2                   4.0  0   \n",
       "4            5.0  ...       3.0         4          1                   3.0  0   \n",
       "5            2.0  ...       7.0         4          2                   1.0  0   \n",
       "\n",
       "   W  decade  movement  wealth  life_stage  \n",
       "1  1    90.0       0.0       5           1  \n",
       "2  1    90.0       1.0       2           4  \n",
       "3  1    70.0       0.0       1           2  \n",
       "4  1    70.0       0.0       4           3  \n",
       "5  1    50.0       0.0       5           4  \n",
       "\n",
       "[5 rows x 135 columns]"
      ]
     },
     "execution_count": 47,
     "metadata": {},
     "output_type": "execute_result"
    }
   ],
   "source": [
    "azdias_clean.head()"
   ]
  },
  {
   "cell_type": "code",
   "execution_count": 48,
   "metadata": {},
   "outputs": [
    {
     "name": "stdout",
     "output_type": "stream",
     "text": [
      "(789433, 135)\n"
     ]
    }
   ],
   "source": [
    "print(azdias_clean.shape)"
   ]
  },
  {
   "cell_type": "code",
   "execution_count": 49,
   "metadata": {},
   "outputs": [],
   "source": [
    "### save\n",
    "azdias_clean.to_csv('../data/Udacity_AZDIAS_052018_clean.csv', sep=';')"
   ]
  },
  {
   "cell_type": "code",
   "execution_count": 50,
   "metadata": {},
   "outputs": [
    {
     "name": "stderr",
     "output_type": "stream",
     "text": [
      "/Users/jamancilla/.local/lib/python3.7/site-packages/IPython/core/interactiveshell.py:3063: DtypeWarning: Columns (18,19) have mixed types.Specify dtype option on import or set low_memory=False.\n",
      "  interactivity=interactivity, compiler=compiler, result=result)\n"
     ]
    },
    {
     "name": "stdout",
     "output_type": "stream",
     "text": [
      "(191652, 369)\n",
      "(140274, 135)\n",
      "(51378, 137)\n"
     ]
    }
   ],
   "source": [
    "# Test on customer data\n",
    "customers = pd.read_csv('../data/Udacity_CUSTOMERS_052018.csv', sep=';')\n",
    "print(customers.shape)\n",
    "customers_clean, customers_dropped = clean_data(customers, feat_info, row_threshold=10)\n",
    "print(customers_clean.shape)\n",
    "print(customers_dropped.shape)"
   ]
  },
  {
   "cell_type": "code",
   "execution_count": 51,
   "metadata": {},
   "outputs": [],
   "source": [
    "# save\n",
    "customers_clean.to_csv('../data/Udacity_CUSTOMERS_052018_clean.csv', sep=';')"
   ]
  },
  {
   "cell_type": "code",
   "execution_count": 52,
   "metadata": {},
   "outputs": [
    {
     "data": {
      "text/plain": [
       "REGIOTYP            0.074951\n",
       "KKK                 0.074951\n",
       "W_KEIT_KIND_HH      0.071772\n",
       "HEALTH_TYP          0.043739\n",
       "SHOPPER_TYP         0.043739\n",
       "VERS_TYP            0.043739\n",
       "MOBI_REGIO          0.042957\n",
       "NATIONALITAET_KZ    0.040343\n",
       "HH_DELTA_FLAG       0.039939\n",
       "LP_FAMILIE_GROB     0.036663\n",
       "dtype: float64"
      ]
     },
     "execution_count": 52,
     "metadata": {},
     "output_type": "execute_result"
    }
   ],
   "source": [
    "# Handle remaining missing values\n",
    "azdias_clean.isnull().mean().sort_values(ascending=False).head(10)"
   ]
  },
  {
   "cell_type": "code",
   "execution_count": null,
   "metadata": {},
   "outputs": [],
   "source": []
  },
  {
   "cell_type": "markdown",
   "metadata": {},
   "source": []
  }
 ],
 "metadata": {
  "kernelspec": {
   "display_name": "Python 3",
   "language": "python",
   "name": "python3"
  },
  "language_info": {
   "codemirror_mode": {
    "name": "ipython",
    "version": 3
   },
   "file_extension": ".py",
   "mimetype": "text/x-python",
   "name": "python",
   "nbconvert_exporter": "python",
   "pygments_lexer": "ipython3",
   "version": "3.7.3"
  }
 },
 "nbformat": 4,
 "nbformat_minor": 2
}
